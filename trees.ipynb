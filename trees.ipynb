{
 "cells": [
  {
   "cell_type": "code",
   "execution_count": 37,
   "id": "297f7e93-61e0-426f-83f2-3d7c9bb10bdd",
   "metadata": {},
   "outputs": [],
   "source": [
    "from networkx.algorithms.tree.mst import SpanningTreeIterator\n",
    "import matplotlib.pyplot as plt\n",
    "import tree_utils as tu\n",
    "from tqdm import tqdm\n",
    "import networkx as nx\n",
    "import numpy as np\n",
    "import random"
   ]
  },
  {
   "cell_type": "code",
   "execution_count": 3,
   "id": "b04444f7-b93a-4d60-83a1-38e761ecab7c",
   "metadata": {},
   "outputs": [],
   "source": [
    "N = 4\n",
    "g = nx.grid_graph(dim=(N,N))\n",
    "for edge in g.edges:\n",
    "    u, v = edge\n",
    "    g[u][v]['weight'] = 1"
   ]
  },
  {
   "cell_type": "code",
   "execution_count": 4,
   "id": "e0572bd1-a81c-4da1-84d2-b1738adc1481",
   "metadata": {},
   "outputs": [
    {
     "name": "stderr",
     "output_type": "stream",
     "text": [
      "100352it [01:59, 842.88it/s]"
     ]
    },
    {
     "name": "stdout",
     "output_type": "stream",
     "text": [
      "CPU times: user 1min 56s, sys: 2.58 s, total: 1min 58s\n",
      "Wall time: 1min 59s\n"
     ]
    },
    {
     "name": "stderr",
     "output_type": "stream",
     "text": [
      "\n"
     ]
    }
   ],
   "source": [
    "%%time\n",
    "trees = SpanningTreeIterator(g)\n",
    "trees = []\n",
    "for tree in tqdm(SpanningTreeIterator(g)):\n",
    "    trees.append(tree)"
   ]
  },
  {
   "cell_type": "code",
   "execution_count": 26,
   "id": "8b1c4c8a-40c6-48d7-97ee-3b9b33e9e32d",
   "metadata": {},
   "outputs": [],
   "source": [
    "def make_tree_dict(trees, ds):\n",
    "    tree_dict = {}\n",
    "    for tree in tqdm(trees):\n",
    "        d_dict = {}\n",
    "        for d in ds:\n",
    "            d_dict[d] = tu.find_balance_edge(tree, d)\n",
    "        tree_dict[tree] = d_dict\n",
    "    return tree_dict\n",
    "\n",
    "def make_counting_dict(g, tree_dict, ds):\n",
    "    counting_dict = {}\n",
    "    for d in ds:\n",
    "        counting_dict[d] = {e: 0 for e in g.edges}\n",
    "        for tree in tqdm(tree_dict):\n",
    "            balance_edges = tree_dict[tree][d]\n",
    "            for balance_edge in balance_edges:\n",
    "                counting_dict[d][balance_edge] += 1\n",
    "    return counting_dict"
   ]
  },
  {
   "cell_type": "code",
   "execution_count": 30,
   "id": "aec71c47-ebbd-41e9-9945-869b0231febf",
   "metadata": {},
   "outputs": [
    {
     "name": "stderr",
     "output_type": "stream",
     "text": [
      "100%|████████████████████████████████████████████████████████████████████████████████████████████████████████████| 100352/100352 [11:18<00:00, 147.96it/s]"
     ]
    },
    {
     "name": "stdout",
     "output_type": "stream",
     "text": [
      "CPU times: user 10min 57s, sys: 13.6 s, total: 11min 10s\n",
      "Wall time: 11min 18s\n"
     ]
    },
    {
     "name": "stderr",
     "output_type": "stream",
     "text": [
      "\n"
     ]
    }
   ],
   "source": [
    "%%time\n",
    "tree_dict = make_tree_dict(trees, [0,1,2])"
   ]
  },
  {
   "cell_type": "code",
   "execution_count": 31,
   "id": "d9db208e-6d09-49b6-97c7-f9e1e68f22f7",
   "metadata": {},
   "outputs": [
    {
     "name": "stderr",
     "output_type": "stream",
     "text": [
      "100%|█████████████████████████████████████████████████████████████████████████████████████████████████████████| 100352/100352 [00:00<00:00, 782201.98it/s]\n",
      "100%|█████████████████████████████████████████████████████████████████████████████████████████████████████████| 100352/100352 [00:00<00:00, 639222.31it/s]\n",
      "100%|█████████████████████████████████████████████████████████████████████████████████████████████████████████| 100352/100352 [00:00<00:00, 576887.32it/s]"
     ]
    },
    {
     "name": "stdout",
     "output_type": "stream",
     "text": [
      "CPU times: user 452 ms, sys: 18.6 ms, total: 470 ms\n",
      "Wall time: 475 ms\n"
     ]
    },
    {
     "name": "stderr",
     "output_type": "stream",
     "text": [
      "\n"
     ]
    }
   ],
   "source": [
    "%%time\n",
    "counting_dict = make_counting_dict(g, tree_dict, [0,1,2])"
   ]
  },
  {
   "cell_type": "code",
   "execution_count": null,
   "id": "7248acd1-ec88-4151-a933-0b45c3c2235b",
   "metadata": {},
   "outputs": [],
   "source": []
  },
  {
   "cell_type": "code",
   "execution_count": 40,
   "id": "b13c0d73-4169-44d8-b85a-a6663bc79410",
   "metadata": {},
   "outputs": [],
   "source": [
    "def plot(g, attention, ax, nodes_to_plot=None, nodes_labels=None,\n",
    "         edges_to_plot=None, nodes_pos=None, nodes_colors=None,\n",
    "         edge_colormap=plt.cm.Reds):\n",
    "    \"\"\"\n",
    "    Visualize edge attentions by coloring edges on the graph.\n",
    "    g: nx.DiGraph\n",
    "        Directed networkx graph\n",
    "    attention: list\n",
    "        Attention values corresponding to the order of sorted(g.edges())\n",
    "    ax: matplotlib.axes._subplots.AxesSubplot\n",
    "        ax to be used for plot\n",
    "    nodes_to_plot: list\n",
    "        List of node ids specifying which nodes to plot. Default to\n",
    "        be None. If None, all nodes will be plot.\n",
    "    nodes_labels: list, numpy.array\n",
    "        nodes_labels[i] specifies the label of the ith node, which will\n",
    "        decide the node color on the plot. Default to be None. If None,\n",
    "        all nodes will have the same canonical label. The nodes_labels\n",
    "        should contain labels for all nodes to be plot.\n",
    "    edges_to_plot: list of 2-tuples (i, j)\n",
    "        List of edges represented as (source, destination). Default to\n",
    "        be None. If None, all edges will be plot.\n",
    "    nodes_pos: dictionary mapping int to numpy.array of size 2\n",
    "        Default to be None. Specifies the layout of nodes on the plot.\n",
    "    nodes_colors: list\n",
    "        Specifies node color for each node class. Its length should be\n",
    "        bigger than number of node classes in nodes_labels.\n",
    "    edge_colormap: plt.cm\n",
    "        Specifies the colormap to be used for coloring edges.\n",
    "    \"\"\"\n",
    "    if nodes_to_plot is None:\n",
    "        nodes_to_plot = sorted(g.nodes())\n",
    "    if edges_to_plot is None:\n",
    "        # assert isinstance(g, nx.DiGraph), 'Expected g to be an networkx.DiGraph' \\\n",
    "        #                                   'object, got {}.'.format(type(g))\n",
    "        edges_to_plot = sorted(g.edges())\n",
    "    nx.draw_networkx_edges(g, nodes_pos, edgelist=edges_to_plot,\n",
    "                           edge_color=attention, edge_cmap=edge_colormap,\n",
    "                           width=2, alpha=0.5, ax=ax, edge_vmin=0,\n",
    "                           edge_vmax=1)\n",
    "\n",
    "    if nodes_colors is None:\n",
    "        nodes_colors = sns.color_palette(\"deep\", max(nodes_labels) + 1)\n",
    "\n",
    "    nx.draw_networkx_nodes(g, nodes_pos, nodelist=nodes_to_plot, ax=ax, node_size=30,\n",
    "                           node_color=[nodes_colors[nodes_labels[v - 1]] for v in nodes_to_plot],\n",
    "                           with_labels=False, alpha=0.9)"
   ]
  },
  {
   "cell_type": "code",
   "execution_count": 47,
   "id": "084beba0-90ef-4047-9e3e-e49bf3a51381",
   "metadata": {},
   "outputs": [
    {
     "data": {
      "text/plain": [
       "{}"
      ]
     },
     "execution_count": 47,
     "metadata": {},
     "output_type": "execute_result"
    }
   ],
   "source": [
    "g.nodes[(0,0)]"
   ]
  },
  {
   "cell_type": "code",
   "execution_count": 112,
   "id": "7a3b9322-48ba-4427-b8ec-8ee2e287c323",
   "metadata": {},
   "outputs": [
    {
     "data": {
      "image/png": "[encoded data removed]",
      "text/plain": [
       "<Figure size 400x400 with 2 Axes>"
      ]
     },
     "metadata": {},
     "output_type": "display_data"
    }
   ],
   "source": [
    "plt.figure(figsize=(4,4)) # this is needed to keep aspect ratio correct\n",
    "plt.tight_layout()\n",
    "nx.draw(g, \n",
    "        pos={(x,y): (x, y) for x,y in g.nodes()},\n",
    "        width=2,\n",
    "        with_labels=False,\n",
    "        node_size=80*4,\n",
    "        edge_color=[counting_dict[0][e] for e in g.edges()],\n",
    "        edge_cmap=plt.cm.Reds\n",
    "       )\n",
    "sm = plt.cm.ScalarMappable(cmap=plt.cm.Reds)#, norm=plt.Normalize(vmin=0, vmax=1))\n",
    "sm.set_array([])\n",
    "plt.colorbar(sm, fraction=0.046, pad=0.01)\n",
    "plt.show()"
   ]
  },
  {
   "cell_type": "code",
   "execution_count": 69,
   "id": "d78d8878-d6d6-4af7-ac82-84a9df13bbc2",
   "metadata": {},
   "outputs": [
    {
     "data": {
      "image/png": "[encoded data removed]",
      "text/plain": [
       "<Figure size 400x400 with 1 Axes>"
      ]
     },
     "metadata": {},
     "output_type": "display_data"
    }
   ],
   "source": [
    "tu.draw(g, edge_colors=colors)"
   ]
  },
  {
   "cell_type": "code",
   "execution_count": 114,
   "id": "2f7dbb78-345c-4197-af10-3700573432be",
   "metadata": {},
   "outputs": [
    {
     "data": {
      "text/plain": [
       "<matplotlib.cm.ScalarMappable at 0x16c5c57f0>"
      ]
     },
     "execution_count": 114,
     "metadata": {},
     "output_type": "execute_result"
    }
   ],
   "source": [
    "sm"
   ]
  },
  {
   "cell_type": "code",
   "execution_count": null,
   "id": "4adb4201-81ab-4393-ae17-f733cf7b138e",
   "metadata": {},
   "outputs": [],
   "source": []
  },
  {
   "cell_type": "code",
   "execution_count": 24,
   "id": "3c0123d9-56c2-408d-870c-7028dfbff07b",
   "metadata": {},
   "outputs": [
    {
     "data": {
      "image/png": "[encoded data removed]",
      "text/plain": [
       "<Figure size 400x400 with 1 Axes>"
      ]
     },
     "metadata": {},
     "output_type": "display_data"
    }
   ],
   "source": [
    "d = 2\n",
    "for tree in tree_dict:\n",
    "    for u, v, data in tree.edges(data=True):\n",
    "        if (u,v) in tree_dict[tree][d]:\n",
    "            data['colors'] = 'red'\n",
    "        else:\n",
    "            data['colors'] = 'black'\n",
    "    tu.draw(tree, edge_colors='c', delay=0.5)"
   ]
  },
  {
   "cell_type": "code",
   "execution_count": 93,
   "id": "3f1aab60-c183-44fc-9e35-251f75aeb2ce",
   "metadata": {},
   "outputs": [
    {
     "data": {
      "text/plain": [
       "53440"
      ]
     },
     "execution_count": 93,
     "metadata": {},
     "output_type": "execute_result"
    }
   ],
   "source": [
    "sum(counting_dict[0].values())"
   ]
  },
  {
   "cell_type": "code",
   "execution_count": 98,
   "id": "c62a28cf-3dd7-4c0e-99c3-0adac3cbb025",
   "metadata": {},
   "outputs": [],
   "source": [
    "# two fractions could be interesting :\n",
    "#    divide with number of spanning trees that have balance edges \n",
    "#    divide with number of spanning trees "
   ]
  },
  {
   "cell_type": "code",
   "execution_count": 106,
   "id": "37d2de86-e4dc-4ae4-8a1e-a0c685808f13",
   "metadata": {},
   "outputs": [
    {
     "data": {
      "text/plain": [
       "[0.008978396045918368,\n",
       " 0.008978396045918368,\n",
       " 0.014718191964285714,\n",
       " 0.03515625,\n",
       " 0.014718191964285714,\n",
       " 0.008978396045918368,\n",
       " 0.008978396045918368,\n",
       " 0.03515625,\n",
       " 0.014718191964285714,\n",
       " 0.05058195153061224,\n",
       " 0.05058195153061224,\n",
       " 0.05058195153061224,\n",
       " 0.014718191964285714,\n",
       " 0.03515625,\n",
       " 0.008978396045918368,\n",
       " 0.014718191964285714,\n",
       " 0.014718191964285714,\n",
       " 0.05058195153061224,\n",
       " 0.014718191964285714,\n",
       " 0.014718191964285714,\n",
       " 0.008978396045918368,\n",
       " 0.008978396045918368,\n",
       " 0.03515625,\n",
       " 0.008978396045918368]"
      ]
     },
     "execution_count": 106,
     "metadata": {},
     "output_type": "execute_result"
    }
   ],
   "source": [
    "# this is normalized by the number of spanning trees\n",
    "normalized_counting_dict = [counting_dict[0][e]/len(trees) for e in g.edges()] \n",
    "normalized_counting_dict"
   ]
  },
  {
   "cell_type": "code",
   "execution_count": null,
   "id": "96936e58-2933-44f8-99fa-7fbead7226a6",
   "metadata": {},
   "outputs": [],
   "source": []
  }
 ],
 "metadata": {
  "kernelspec": {
   "display_name": "Python 3 (ipykernel)",
   "language": "python",
   "name": "python3"
  },
  "language_info": {
   "codemirror_mode": {
    "name": "ipython",
    "version": 3
   },
   "file_extension": ".py",
   "mimetype": "text/x-python",
   "name": "python",
   "nbconvert_exporter": "python",
   "pygments_lexer": "ipython3",
   "version": "3.9.6"
  }
 },
 "nbformat": 4,
 "nbformat_minor": 5
}
