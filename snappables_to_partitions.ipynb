{
 "cells": [
  {
   "cell_type": "markdown",
   "id": "342f8406-76bd-4e9e-bdf2-06cf8647b8e6",
   "metadata": {},
   "source": [
    "## snappables to partitions\n",
    "specifically, snappable spanning trees to balanced 2-partitions. \n",
    "\n",
    "by definition, a snappable tree on a graph $G = (V, E)$ has exactly one edge that, if cut, breaks the tree into two subtrees of size $\\frac{|V|}{2}$. those subtrees define a balanced 2-partition of $G$. every graph $G$ has some set $P$ of balanced 2-partitions, and my question is the following: what distribution over $P$ is induced by the uniform distribution over snappable trees? my guess is that it will be the spanning tree distribution, where each partition has density proportional to the product of the number of spanning trees in each part.\n",
    "\n",
    "this might be easy to prove analytically, but i'm interested in investigating it experimentally here. to do so, i'll need the following tools (many of which already exist):\n",
    "* a candidate graph $G$. this needs to be big enough to admit partitions with nontrivial spanning tree density, but small enough to limit the number of partitions to something reasonable. and also needs to have an even number of nodes. i think starting with the $4 \\times 4$ square grid graph should be okay, but might want to scale down to the $3 \\times 4$ rectangular grid.\n",
    "* as we don't (yet) have an algorithm to uniformly sample snappable trees, we can either use wilson's algorithm to uniformly sample spanning trees, or my tree_utils function to enumerate all spanning trees of $G$. either way, we'll need a function to determine whether a tree is snappable (i think we can use jamie tucker-foltz's code here).\n",
    "* it might be helpful to use some zdd code to double-check the number of balanced 2-partitions of square grid graphs\n",
    "* we should probably add code to tree_utils to handle/identify partitions of graphs\n",
    "* we should adapt the visualization tools from the gabe_wilsons.ipynb notebook to check the distribution over $P$ at the end"
   ]
  },
  {
   "cell_type": "code",
   "execution_count": 45,
   "id": "22b2949e-8485-4ba0-b41e-ed4e93533814",
   "metadata": {},
   "outputs": [],
   "source": [
    "import numpy as np\n",
    "from tqdm import tqdm\n",
    "import tree_utils as tu\n",
    "import matplotlib.pyplot as plt\n",
    "from tree_partition import sample_uniform_partition_of_tree"
   ]
  },
  {
   "cell_type": "code",
   "execution_count": 219,
   "id": "e4e7f257-82fa-4539-8dd6-ec7907b3226d",
   "metadata": {},
   "outputs": [
    {
     "data": {
      "image/png": "[encoded data removed]",
      "text/plain": [
       "<Figure size 400x300 with 1 Axes>"
      ]
     },
     "metadata": {},
     "output_type": "display_data"
    }
   ],
   "source": [
    "# N = 4\n",
    "dims = (3,4)\n",
    "g = tu.generate_grid_graph(dims, queen=False)\n",
    "tu.draw(g)"
   ]
  },
  {
   "cell_type": "code",
   "execution_count": 220,
   "id": "cf0a6d94-cdd6-49a8-8e8c-b797cc74587e",
   "metadata": {},
   "outputs": [
    {
     "name": "stderr",
     "output_type": "stream",
     "text": [
      "2415it [00:02, 854.72it/s]\n"
     ]
    }
   ],
   "source": [
    "all_trees = [tree for tree in tu.enumerate_all_trees(g)]"
   ]
  },
  {
   "cell_type": "markdown",
   "id": "a2810d17-bc84-4073-b9f7-463c473b232d",
   "metadata": {},
   "source": [
    "the file at `mggg/ZDD/outputs/julia_enumpart.txt` gives the following output at line 38\n",
    "\n",
    "`rook 4x4 grid -> 2 districts (size 8+/-0): 70                       (Julia enumpart, took 0.119509776)`\n",
    "\n",
    "so it seems there are 70 ways to partition the 4x4 grid into two equal connected parts of size 8."
   ]
  },
  {
   "cell_type": "code",
   "execution_count": 221,
   "id": "de8704ff-f4d0-4481-a0f8-fe7a6c54065a",
   "metadata": {},
   "outputs": [],
   "source": [
    "def get_sp_score(g, partition):\n",
    "    prod = 1\n",
    "    for part in partition:\n",
    "        subgraph = g.subgraph(part)\n",
    "        NST = tu.find_NST(subgraph)\n",
    "        prod *= NST\n",
    "    return prod"
   ]
  },
  {
   "cell_type": "code",
   "execution_count": 223,
   "id": "90fcc6a8-10ca-4a3b-98b4-11684463f67a",
   "metadata": {
    "tags": []
   },
   "outputs": [
    {
     "name": "stderr",
     "output_type": "stream",
     "text": [
      "100%|██████████████████████████████████████| 2415/2415 [00:06<00:00, 353.85it/s]\n"
     ]
    }
   ],
   "source": [
    "# identify and set aside snappable trees\n",
    "# part_size = (N ** 2) / 2\n",
    "part_size = 6\n",
    "all_snappables = []\n",
    "for tree in tqdm(all_trees):\n",
    "    for n in tree:\n",
    "        tree.nodes[n]['pop'] = 1\n",
    "    partition, num_balance_edges = sample_uniform_partition_of_tree(tree, 2, part_size, part_size, \"pop\")\n",
    "    if num_balance_edges:\n",
    "        sp_score = get_sp_score(g, partition)\n",
    "        for part in partition:\n",
    "            if (0,0) in part:\n",
    "                all_snappables.append((tree, set(part), sp_score))"
   ]
  },
  {
   "cell_type": "code",
   "execution_count": 228,
   "id": "cc8e48f0-74a7-4785-a911-c077b594362f",
   "metadata": {},
   "outputs": [],
   "source": [
    "all_partitions = []\n",
    "for tup in all_snappables:\n",
    "    partition = tup[1]\n",
    "    if partition not in all_partitions:\n",
    "        all_partitions.append(partition)\n",
    "# assert len(all_partitions) == 70\n",
    "\n",
    "def indexer(partition):\n",
    "    return all_partitions.index(partition)\n",
    "\n",
    "partition_freqs = {indexer(partition): 0 for partition in all_partitions}\n",
    "for tup in all_snappables:\n",
    "    partition_freqs[indexer(tup[1])] += 1/len(all_snappables)\n",
    "    \n",
    "# The below is to resort the partitions by frequency\n",
    "resorted_list = sorted([(k, v) for (k, v) in partition_freqs.items()], key=lambda x:x[1], reverse=True)\n",
    "\n",
    "def reindexer(partition):\n",
    "    old_index = indexer(partition)\n",
    "    resorted = [t[0] for t in resorted_list]\n",
    "    return resorted.index(old_index)\n",
    "\n",
    "partition_freqs = {reindexer(partition): 0 for partition in all_partitions}\n",
    "for tup in all_snappables:\n",
    "    partition_freqs[reindexer(tup[1])] += 1/len(all_snappables)\n",
    "    \n",
    "partition_scores = {}\n",
    "for tup in all_snappables:\n",
    "    partition = tup[1]\n",
    "    if reindexer(partition) not in partition_scores:\n",
    "        partition_scores[reindexer(partition)] = tup[2] / 377 # NOTE -- this comes from summing over all partition scores, needs to be recomputed if g changes"
   ]
  },
  {
   "cell_type": "code",
   "execution_count": 229,
   "id": "9d32c00b-688a-4d7f-b5b8-0cbf5ef72658",
   "metadata": {},
   "outputs": [
    {
     "data": {
      "image/png": "[encoded data removed]",
      "text/plain": [
       "<Figure size 1600x400 with 1 Axes>"
      ]
     },
     "metadata": {},
     "output_type": "display_data"
    }
   ],
   "source": [
    "fig, ax = plt.subplots(figsize=(16,4))\n",
    "\n",
    "plt.bar(x = partition_freqs.keys(),\n",
    "        height = partition_freqs.values(),\n",
    "        log=True,\n",
    "        alpha=0.5,\n",
    "        label=\"Probability via uniform snappable\",\n",
    "       )\n",
    "plt.bar(x = partition_scores.keys(),\n",
    "        height = partition_scores.values(),\n",
    "        log=True,\n",
    "        alpha=0.5,\n",
    "        label=\"Probability via spanning tree dist\",\n",
    "       )\n",
    "plt.legend()\n",
    "_ = plt.xlabel(\"Partition (Re-)Index\")"
   ]
  },
  {
   "cell_type": "code",
   "execution_count": 194,
   "id": "86826ced-cffa-45d5-8d3c-53d09a6db062",
   "metadata": {},
   "outputs": [
    {
     "data": {
      "image/png": "[encoded data removed]",
      "text/plain": [
       "<Figure size 400x300 with 1 Axes>"
      ]
     },
     "metadata": {},
     "output_type": "display_data"
    }
   ],
   "source": [
    "tu.draw(all_snappables[0][0])"
   ]
  },
  {
   "cell_type": "code",
   "execution_count": null,
   "id": "66522b7b-7ab1-432c-bf58-91ba7bbcee44",
   "metadata": {},
   "outputs": [],
   "source": []
  }
 ],
 "metadata": {
  "kernelspec": {
   "display_name": "Python 3 (ipykernel)",
   "language": "python",
   "name": "python3"
  },
  "language_info": {
   "codemirror_mode": {
    "name": "ipython",
    "version": 3
   },
   "file_extension": ".py",
   "mimetype": "text/x-python",
   "name": "python",
   "nbconvert_exporter": "python",
   "pygments_lexer": "ipython3",
   "version": "3.9.6"
  }
 },
 "nbformat": 4,
 "nbformat_minor": 5
}
