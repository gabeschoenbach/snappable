{
 "cells": [
  {
   "cell_type": "markdown",
   "id": "342f8406-76bd-4e9e-bdf2-06cf8647b8e6",
   "metadata": {},
   "source": [
    "## snappables to partitions\n",
    "specifically, snappable spanning trees to balanced 2-partitions. \n",
    "\n",
    "by definition, a snappable tree on a graph $G = (V, E)$ has exactly one edge that, if cut, breaks the tree into two subtrees of size $\\frac{|V|}{2}$. those subtrees define a balanced 2-partition of $G$. every graph $G$ has some set $P$ of balanced 2-partitions, and my question is the following: what distribution over $P$ is induced by the uniform distribution over snappable trees? my guess is that it will be the spanning tree distribution, where each partition has density proportional to the product of the number of spanning trees in each part.\n",
    "\n",
    "this might be easy to prove analytically, but i'm interested in investigating it experimentally here. to do so, i'll need the following tools (many of which already exist):\n",
    "* a candidate graph $G$. this needs to be big enough to admit partitions with nontrivial spanning tree density, but small enough to limit the number of partitions to something reasonable. and also needs to have an even number of nodes. i think starting with the $4 \\times 4$ square grid graph should be okay, but might want to scale down to the $3 \\times 4$ rectangular grid.\n",
    "* as we don't (yet) have an algorithm to uniformly sample snappable trees, we can either use wilson's algorithm to uniformly sample spanning trees, or my tree_utils function to enumerate all spanning trees of $G$. either way, we'll need a function to determine whether a tree is snappable (i think we can use jamie tucker-foltz's code here).\n",
    "* it might be helpful to use some zdd code to double-check the number of balanced 2-partitions of square grid graphs\n",
    "* we should probably add code to tree_utils to handle/identify partitions of graphs\n",
    "* we should adapt the visualization tools from the gabe_wilsons.ipynb notebook to check the distribution over $P$ at the end"
   ]
  },
  {
   "cell_type": "code",
   "execution_count": 1,
   "id": "22b2949e-8485-4ba0-b41e-ed4e93533814",
   "metadata": {},
   "outputs": [],
   "source": [
    "import numpy as np\n",
    "import pandas as pd\n",
    "from tqdm import tqdm\n",
    "import tree_utils as tu\n",
    "import matplotlib.pyplot as plt\n",
    "from tree_partition import sample_uniform_partition_of_tree"
   ]
  },
  {
   "cell_type": "code",
   "execution_count": 81,
   "id": "ad39e284-8796-4d1b-9c8f-578d3a04f18e",
   "metadata": {},
   "outputs": [],
   "source": [
    "def get_sp_scores(g, partition):\n",
    "    prod = 1\n",
    "    subgraphs = [g.subgraph(part) for part in partition]\n",
    "    for subgraph in subgraphs:\n",
    "        NST = tu.find_NST(subgraph)\n",
    "        prod *= NST\n",
    "    cut_edges = []\n",
    "    for e in g.edges:\n",
    "        if e not in subgraphs[0].edges and e not in subgraphs[1].edges:\n",
    "            cut_edges.append(e)\n",
    "    return (prod, prod * len(cut_edges))"
   ]
  },
  {
   "cell_type": "code",
   "execution_count": 82,
   "id": "388bb22d-b1ff-461b-acc6-dbd5178cea7a",
   "metadata": {},
   "outputs": [
    {
     "data": {
      "text/plain": [
       "(15, 75)"
      ]
     },
     "execution_count": 82,
     "metadata": {},
     "output_type": "execute_result"
    }
   ],
   "source": [
    "get_sp_scores(g, partition)"
   ]
  },
  {
   "cell_type": "code",
   "execution_count": 108,
   "id": "e4e7f257-82fa-4539-8dd6-ec7907b3226d",
   "metadata": {},
   "outputs": [
    {
     "data": {
      "image/png": "[encoded data removed]",
      "text/plain": [
       "<Figure size 400x300 with 1 Axes>"
      ]
     },
     "metadata": {},
     "output_type": "display_data"
    }
   ],
   "source": [
    "# N = 4\n",
    "dims = (3,4)\n",
    "g = tu.generate_grid_graph(dims, queen=False)\n",
    "tu.draw(g)"
   ]
  },
  {
   "cell_type": "code",
   "execution_count": 109,
   "id": "cf0a6d94-cdd6-49a8-8e8c-b797cc74587e",
   "metadata": {},
   "outputs": [
    {
     "name": "stderr",
     "output_type": "stream",
     "text": [
      "2415it [00:02, 1169.09it/s]\n"
     ]
    }
   ],
   "source": [
    "all_trees = [tree for tree in tu.enumerate_all_trees(g)]"
   ]
  },
  {
   "cell_type": "markdown",
   "id": "a2810d17-bc84-4073-b9f7-463c473b232d",
   "metadata": {},
   "source": [
    "the file at `mggg/ZDD/outputs/julia_enumpart.txt` (on my computer) gives the following output at line 38\n",
    "\n",
    "`rook 4x4 grid -> 2 districts (size 8+/-0): 70                       (Julia enumpart, took 0.119509776)`\n",
    "\n",
    "so it seems there are 70 ways to partition the 4x4 grid into two equal connected parts of size 8. as a result of running the below code with a $3 \\times 4$ grid graph, it looks like there are 18 ways to partition it into two equal connected parts of size 6."
   ]
  },
  {
   "cell_type": "code",
   "execution_count": 110,
   "id": "90fcc6a8-10ca-4a3b-98b4-11684463f67a",
   "metadata": {
    "tags": []
   },
   "outputs": [
    {
     "name": "stderr",
     "output_type": "stream",
     "text": [
      "100%|██████████████████████████████████████| 2415/2415 [00:04<00:00, 504.74it/s]\n"
     ]
    }
   ],
   "source": [
    "# identify and set aside snappable trees\n",
    "# part_size = (N ** 2) / 2\n",
    "part_size = 6\n",
    "all_snappables = []\n",
    "for tree in tqdm(all_trees):\n",
    "    for n in tree:\n",
    "        tree.nodes[n]['pop'] = 1\n",
    "    partition, num_balance_edges = sample_uniform_partition_of_tree(tree, 2, part_size, part_size, \"pop\")\n",
    "    if num_balance_edges:\n",
    "        sp_score, sp_ce_score = get_sp_scores(g, partition)\n",
    "        for part in partition:\n",
    "            if (0,0) in part:\n",
    "                all_snappables.append((tree, set(part), sp_score, sp_ce_score))"
   ]
  },
  {
   "cell_type": "code",
   "execution_count": 111,
   "id": "cc8e48f0-74a7-4785-a911-c077b594362f",
   "metadata": {},
   "outputs": [],
   "source": [
    "all_partitions = []\n",
    "for tup in all_snappables:\n",
    "    partition = tup[1]\n",
    "    if partition not in all_partitions:\n",
    "        all_partitions.append(partition)\n",
    "# assert len(all_partitions) == 70 ## only for the 4x4 grid graph case.\n",
    "\n",
    "# we need to label the partitions with integers in order to easily boxplot them\n",
    "def indexer(partition):\n",
    "    return all_partitions.index(partition)\n",
    "\n",
    "partition_freqs = {indexer(partition): 0 for partition in all_partitions}\n",
    "for tup in all_snappables:\n",
    "    partition_freqs[indexer(tup[1])] += 1 /len(all_snappables)\n",
    "    \n",
    "# The below is to resort the partitions by frequency; it's unnecessarily confusing\n",
    "resorted_list = sorted([(k, v) for (k, v) in partition_freqs.items()], key=lambda x:x[1], reverse=True)\n",
    "\n",
    "def reindexer(partition):\n",
    "    old_index = indexer(partition)\n",
    "    resorted = [t[0] for t in resorted_list]\n",
    "    return resorted.index(old_index)\n",
    "\n",
    "partition_freqs = {reindexer(partition): 0 for partition in all_partitions}\n",
    "for tup in all_snappables:\n",
    "    partition_freqs[reindexer(tup[1])] += 1 /len(all_snappables)\n",
    "\n",
    "partition_scores = {}\n",
    "for tup in all_snappables:\n",
    "    partition = tup[1]\n",
    "    if reindexer(partition) not in partition_scores:\n",
    "        partition_scores[reindexer(partition)] = tup[2] / 377 # NOTE -- this comes from summing over all partition scores, needs to be recomputed if g changes\n",
    "        \n",
    "partition_ce_scores = {}\n",
    "for tup in all_snappables:\n",
    "    partition = tup[1]\n",
    "    if reindexer(partition) not in partition_ce_scores:\n",
    "        partition_ce_scores[reindexer(partition)] = tup[3] / 1467 # NOTE -- this comes from summing over all partition scores, needs to be recomputed if g changes"
   ]
  },
  {
   "cell_type": "code",
   "execution_count": 112,
   "id": "9d32c00b-688a-4d7f-b5b8-0cbf5ef72658",
   "metadata": {},
   "outputs": [
    {
     "data": {
      "image/png": "[encoded data removed]",
      "text/plain": [
       "<Figure size 1600x400 with 1 Axes>"
      ]
     },
     "metadata": {},
     "output_type": "display_data"
    }
   ],
   "source": [
    "fig, ax = plt.subplots(figsize=(16,4))\n",
    "\n",
    "plt.bar(x = partition_freqs.keys(),\n",
    "        height = partition_freqs.values(),\n",
    "        log=True,\n",
    "        alpha=0.5,\n",
    "        label=\"Probability via uniform snappable\",\n",
    "       )\n",
    "# plt.bar(x = partition_scores.keys(),\n",
    "#         height = partition_scores.values(),\n",
    "#         log=True,\n",
    "#         alpha=0.5,\n",
    "#         label=\"Probability via spanning tree dist\",\n",
    "#        )\n",
    "plt.bar(x = partition_ce_scores.keys(),\n",
    "        height = partition_ce_scores.values(),\n",
    "        log=True,\n",
    "        alpha=0.5,\n",
    "        label=\"Probability via spanning tree dist * len(ces)\",\n",
    "       )\n",
    "plt.legend()\n",
    "_ = plt.xlabel(\"Partition (Re-)Index\")\n",
    "# plt.savefig(\"distributions_3x4.png\", dpi=600, bbox_inches='tight')"
   ]
  },
  {
   "cell_type": "markdown",
   "id": "46f9d535-4037-4733-a26b-aabcf9aef746",
   "metadata": {},
   "source": [
    "_the below is me trying to figure out why this wasn't lining up with the spanning tree dist, which was because it shouldn't! see above...._"
   ]
  },
  {
   "cell_type": "markdown",
   "id": "1244bc95-dcfb-4f78-a7db-5fae59f35ff1",
   "metadata": {
    "tags": []
   },
   "source": [
    "## again, with actual uniform sampling\n",
    "one reason the distributions might not be lining up is that that the number of snappable trees is coprime with the sum of the spanning tree scores over all partitions, which means the frequencies can never line up exactly. to ameliorate this, we could actually sample snappable trees uniformly by using wilson's and rejection sampling until we get a snappable tree. let's see if this works...."
   ]
  },
  {
   "cell_type": "code",
   "execution_count": 39,
   "id": "55e19243-74ce-45ce-a346-1d18d5070997",
   "metadata": {},
   "outputs": [
    {
     "name": "stderr",
     "output_type": "stream",
     "text": [
      "100%|██████████████████████████████████| 100000/100000 [04:49<00:00, 344.98it/s]"
     ]
    },
    {
     "name": "stdout",
     "output_type": "stream",
     "text": [
      "CPU times: user 4min 33s, sys: 15.5 s, total: 4min 48s\n",
      "Wall time: 4min 49s\n"
     ]
    },
    {
     "name": "stderr",
     "output_type": "stream",
     "text": [
      "\n"
     ]
    }
   ],
   "source": [
    "%%time\n",
    "num_trials = 100000\n",
    "all_snappables = []\n",
    "for _ in tqdm(range(num_trials)):\n",
    "    tree = tu.uniform_random_spanning_tree(g)\n",
    "    for n in tree:\n",
    "        tree.nodes[n]['pop'] = 1\n",
    "    partition, num_balance_edges = sample_uniform_partition_of_tree(tree, 2, part_size, part_size, \"pop\")\n",
    "    if num_balance_edges:\n",
    "        sp_score = get_sp_score(g, partition)\n",
    "        for part in partition:\n",
    "            if (0,0) in part:\n",
    "                all_snappables.append((tree, set(part), sp_score))"
   ]
  },
  {
   "cell_type": "code",
   "execution_count": 44,
   "id": "f7441820-e480-497d-b7ef-1db9b0884e1d",
   "metadata": {},
   "outputs": [
    {
     "data": {
      "text/plain": [
       "60584"
      ]
     },
     "execution_count": 44,
     "metadata": {},
     "output_type": "execute_result"
    }
   ],
   "source": [
    "len(all_snappables)"
   ]
  },
  {
   "cell_type": "code",
   "execution_count": 40,
   "id": "5beb3f16-ebf5-453a-a1cd-9e7b23cac02d",
   "metadata": {},
   "outputs": [],
   "source": [
    "all_partitions = []\n",
    "for tup in all_snappables:\n",
    "    partition = tup[1]\n",
    "    if partition not in all_partitions:\n",
    "        all_partitions.append(partition)\n",
    "# assert len(all_partitions) == 70 ## only for the 4x4 grid graph case.\n",
    "\n",
    "# we need to label the partitions with integers in order to easily boxplot them\n",
    "def indexer(partition):\n",
    "    return all_partitions.index(partition)\n",
    "\n",
    "partition_freqs = {indexer(partition): 0 for partition in all_partitions}\n",
    "for tup in all_snappables:\n",
    "    partition_freqs[indexer(tup[1])] += 1 /len(all_snappables)\n",
    "    \n",
    "# The below is to resort the partitions by frequency; it's unnecessarily confusing\n",
    "resorted_list = sorted([(k, v) for (k, v) in partition_freqs.items()], key=lambda x:x[1], reverse=True)\n",
    "\n",
    "def reindexer(partition):\n",
    "    old_index = indexer(partition)\n",
    "    resorted = [t[0] for t in resorted_list]\n",
    "    return resorted.index(old_index)\n",
    "\n",
    "partition_freqs = {reindexer(partition): 0 for partition in all_partitions}\n",
    "for tup in all_snappables:\n",
    "    partition_freqs[reindexer(tup[1])] += 1 /len(all_snappables)\n",
    "\n",
    "    \n",
    "partition_scores = {}\n",
    "for tup in all_snappables:\n",
    "    partition = tup[1]\n",
    "    if reindexer(partition) not in partition_scores:\n",
    "        partition_scores[reindexer(partition)] = tup[2] / 377 # NOTE -- this comes from summing over all partition scores, needs to be recomputed if g changes"
   ]
  },
  {
   "cell_type": "code",
   "execution_count": 41,
   "id": "09d2f7c5-4324-4732-b734-e8e53085dc45",
   "metadata": {},
   "outputs": [
    {
     "data": {
      "image/png": "[encoded data removed]",
      "text/plain": [
       "<Figure size 1600x400 with 1 Axes>"
      ]
     },
     "metadata": {},
     "output_type": "display_data"
    }
   ],
   "source": [
    "fig, ax = plt.subplots(figsize=(16,4))\n",
    "\n",
    "plt.bar(x = partition_freqs.keys(),\n",
    "        height = partition_freqs.values(),\n",
    "        log=True,\n",
    "        alpha=0.5,\n",
    "        label=\"Probability via uniform snappable\",\n",
    "       )\n",
    "plt.bar(x = partition_scores.keys(),\n",
    "        height = partition_scores.values(),\n",
    "        log=True,\n",
    "        alpha=0.5,\n",
    "        label=\"Probability via spanning tree dist\",\n",
    "       )\n",
    "plt.legend()\n",
    "_ = plt.xlabel(\"Partition (Re-)Index\")\n",
    "# plt.savefig(\"distributions_3x4.png\", dpi=600, bbox_inches='tight')"
   ]
  },
  {
   "cell_type": "markdown",
   "id": "dd41c06d-e59d-4c30-861e-d9b3521091f6",
   "metadata": {},
   "source": [
    "hmmm okay that didn't work -- it really seems like they just are different distributions?? the one other thing I can check is whether the distributions get closer or farther apart as the graph size increases:"
   ]
  },
  {
   "cell_type": "code",
   "execution_count": 49,
   "id": "57ef2c16-7d6d-4f6f-8a27-a13ca655571a",
   "metadata": {},
   "outputs": [],
   "source": [
    "df = pd.read_csv(\"2x4_distributions.csv\", index_col=0)"
   ]
  },
  {
   "cell_type": "code",
   "execution_count": 80,
   "id": "f96d372e-60b6-48f1-9cd2-eb92b6519795",
   "metadata": {},
   "outputs": [],
   "source": [
    "def statistical_difference(df):\n",
    "    dist = 0\n",
    "    for i in df.index:\n",
    "        dist += abs(df.freq.iloc[i] - df.score.iloc[i])\n",
    "    return 0.5 * dist\n",
    "\n",
    "def max_difference(df):\n",
    "    max_diff = 0\n",
    "    for i in df.index:\n",
    "        max_diff = max(max_diff, abs(df.freq.iloc[i] - df.score.iloc[i]))\n",
    "    return max_diff"
   ]
  },
  {
   "cell_type": "code",
   "execution_count": 81,
   "id": "4ca74299-72a4-4f3f-8dba-c777befffe78",
   "metadata": {},
   "outputs": [
    {
     "name": "stdout",
     "output_type": "stream",
     "text": [
      "2x4: \n",
      "  0.1148325358851676\n",
      "  0.11483253588516773\n",
      "3x4: \n",
      "  0.13669427674081516\n",
      "  0.1366942767408122\n",
      "4x4: \n",
      "  0.11890665198678496\n",
      "  0.059453325993367\n",
      "5x4: \n",
      "  0.08509555579476107\n",
      "  0.026793772133356403\n"
     ]
    }
   ],
   "source": [
    "for n in [2,3,4,5]:\n",
    "    df = pd.read_csv(f\"{n}x4_distributions.csv\", index_col=0)\n",
    "    stat_diff = statistical_difference(df)\n",
    "    max_diff = max_difference(df)\n",
    "    print(f\"{n}x4: \\n  {stat_diff}\\n  {max_diff}\")"
   ]
  },
  {
   "cell_type": "markdown",
   "id": "eee5010e-fb3e-4181-8003-1899b9151fa6",
   "metadata": {},
   "source": [
    "this is weird -- the statistical distance doesn't strictly decrease with the size of the graph. this is really making me feel like these are just different distributions!"
   ]
  },
  {
   "cell_type": "code",
   "execution_count": null,
   "id": "9259c8b9-3391-4281-bb76-7c43cdf456d1",
   "metadata": {},
   "outputs": [],
   "source": []
  }
 ],
 "metadata": {
  "kernelspec": {
   "display_name": "Python 3 (ipykernel)",
   "language": "python",
   "name": "python3"
  },
  "language_info": {
   "codemirror_mode": {
    "name": "ipython",
    "version": 3
   },
   "file_extension": ".py",
   "mimetype": "text/x-python",
   "name": "python",
   "nbconvert_exporter": "python",
   "pygments_lexer": "ipython3",
   "version": "3.9.6"
  }
 },
 "nbformat": 4,
 "nbformat_minor": 5
}
