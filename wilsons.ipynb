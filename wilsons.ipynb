{
 "cells": [
  {
   "cell_type": "code",
   "execution_count": 1,
   "id": "61eb4ddc",
   "metadata": {},
   "outputs": [
    {
     "name": "stdout",
     "output_type": "stream",
     "text": [
      "Intel MKL WARNING: Support of Intel(R) Streaming SIMD Extensions 4.2 (Intel(R) SSE4.2) enabled only processors has been deprecated. Intel oneAPI Math Kernel Library 2025.0 will require Intel(R) Advanced Vector Extensions (Intel(R) AVX) instructions.\n",
      "Intel MKL WARNING: Support of Intel(R) Streaming SIMD Extensions 4.2 (Intel(R) SSE4.2) enabled only processors has been deprecated. Intel oneAPI Math Kernel Library 2025.0 will require Intel(R) Advanced Vector Extensions (Intel(R) AVX) instructions.\n"
     ]
    }
   ],
   "source": [
    "import matplotlib.pyplot as plt\n",
    "import tree_utils as tu\n",
    "from tqdm import tqdm\n",
    "import networkx as nx\n",
    "import numpy as np\n",
    "import random\n",
    "from sklearn.preprocessing import normalize"
   ]
  },
  {
   "cell_type": "code",
   "execution_count": 3,
   "id": "1fc0abbf",
   "metadata": {},
   "outputs": [
    {
     "data": {
      "image/png": "[encoded data removed]",
      "text/plain": [
       "<Figure size 300x300 with 1 Axes>"
      ]
     },
     "metadata": {},
     "output_type": "display_data"
    }
   ],
   "source": [
    "dims = (3, 3)\n",
    "g = tu.generate_grid_graph(dims, queen=False)\n",
    "\n",
    "# relabel nodes if you want them as {1, 2, 3,...} instead of {(0,0), (0, 1), ...}\n",
    "# def reverse_dict(d):\n",
    "#     new_dict = dict()\n",
    "#     for k, v in d.items():\n",
    "#         new_dict[v] = k\n",
    "#     return new_dict\n",
    "# labels = {node: (dims[0] * node[0]) + node[1] + 1 for node in g.nodes}\n",
    "# g = nx.relabel_nodes(g, labels, copy=False)\n",
    "# node_map = reverse_dict(labels)\n",
    "# tu.draw(g, node_map=node_map)\n",
    "\n",
    "tu.draw(g)"
   ]
  },
  {
   "cell_type": "code",
   "execution_count": 5,
   "id": "704d0014",
   "metadata": {},
   "outputs": [],
   "source": [
    "def wilsons(g):\n",
    "    root = randomly_pick_root(g)\n",
    "    \n",
    "    tree = nx.Graph()\n",
    "    tree.add_node(root)\n",
    "    \n",
    "    while tree.number_of_nodes() < g.number_of_nodes():\n",
    "        add_branch(g, tree)\n",
    "        \n",
    "    return tree\n",
    "\n",
    "def randomly_pick_root(g):\n",
    "    return random.choice(list(g.nodes))\n",
    "\n",
    "def sort_edge(edge):\n",
    "    return tuple(sorted([tuple(sorted(edge[0])), tuple(sorted(edge[1]))]))\n",
    "\n",
    "def pick_leaf(g, tree):\n",
    "    candidates = list(set(g.nodes()) - set(tree.nodes()))\n",
    "    return random.choice(candidates)\n",
    "\n",
    "def erase_singletons(branch):\n",
    "    # remove the singletons after erasing the loop\n",
    "    to_remove = []\n",
    "    for node in branch.nodes:\n",
    "        if len(list(branch.neighbors(node))) == 0:\n",
    "            to_remove.append(node)\n",
    "    for node in to_remove:\n",
    "        branch.remove_node(node)\n",
    "            \n",
    "def erase_loop_if_exists(branch, g):\n",
    "    \"\"\" dont need to pass g TODO\n",
    "    \"\"\"\n",
    "    try:\n",
    "        cycle = nx.find_cycle(branch)\n",
    "        \n",
    "        for (u, v) in cycle:\n",
    "            branch.remove_edge(u, v)\n",
    "        erase_singletons(branch)\n",
    "        \n",
    "    except nx.exception.NetworkXNoCycle:\n",
    "        pass\n",
    "\n",
    "def loop_exists(g):\n",
    "    \"\"\" Returns True if cycle exists in graph g.\n",
    "    \"\"\"\n",
    "    try:\n",
    "        cycle = nx.find_cycle(g)\n",
    "        return True\n",
    "    except nx.exception.NetworkXNoCycle:\n",
    "        return False\n",
    "\n",
    "def add_branch(g, tree):\n",
    "    leaf = pick_leaf(g, tree)\n",
    "    curr = leaf\n",
    "    branch = nx.Graph()\n",
    "    reached_root = False\n",
    "    \n",
    "    while reached_root is False:\n",
    "        nxt = random.choice(list(g.neighbors(curr)))\n",
    "        \n",
    "        # handle the case of small two edge cycles\n",
    "        if branch.has_edge(curr, nxt):\n",
    "            branch.remove_edge(curr, nxt)\n",
    "            erase_singletons(branch)\n",
    "            curr = nxt\n",
    "            continue\n",
    "            \n",
    "        \n",
    "        branch.add_edge(curr, nxt)\n",
    "        erase_loop_if_exists(branch, g)\n",
    "        curr = nxt\n",
    "\n",
    "        if nxt in tree.nodes():\n",
    "            reached_root = True\n",
    "            \n",
    "    tree = tree.update(branch.edges, branch.nodes)"
   ]
  },
  {
   "cell_type": "code",
   "execution_count": 6,
   "id": "1181676d",
   "metadata": {
    "scrolled": true
   },
   "outputs": [],
   "source": [
    "def test_valid_tree(tree, g):\n",
    "    assert(len(list(nx.connected_components(tree))) == 1)\n",
    "    assert(len(tree.edges) == len(g.nodes)-1)\n",
    "\n",
    "for i in range(1000):\n",
    "    tree = wilsons(g)\n",
    "    test_valid_tree(tree, g)"
   ]
  },
  {
   "cell_type": "code",
   "execution_count": 7,
   "id": "a02daf80",
   "metadata": {},
   "outputs": [
    {
     "name": "stderr",
     "output_type": "stream",
     "text": [
      "192it [00:00, 2457.98it/s]\n"
     ]
    }
   ],
   "source": [
    "all_trees = [tu.tup(tree) for tree in tu.enumerate_all_trees(g)]"
   ]
  },
  {
   "cell_type": "code",
   "execution_count": 8,
   "id": "0cc76545",
   "metadata": {},
   "outputs": [
    {
     "name": "stderr",
     "output_type": "stream",
     "text": [
      "100%|███████████████████████████████████████████████████████████████████████████████████| 100000/100000 [00:30<00:00, 3228.40it/s]\n"
     ]
    },
    {
     "data": {
      "image/png": "[encoded data removed]",
      "text/plain": [
       "<Figure size 1600x300 with 1 Axes>"
      ]
     },
     "metadata": {},
     "output_type": "display_data"
    }
   ],
   "source": [
    "num_trials = 100000\n",
    "data = []\n",
    "\n",
    "for _ in tqdm(range(num_trials)):\n",
    "    tree = wilsons(g)\n",
    "\n",
    "    idx = all_trees.index(tu.tup(tree))\n",
    "    data.append(idx)\n",
    "    \n",
    "tu.plot_sampled_STs(all_trees, data)"
   ]
  },
  {
   "cell_type": "code",
   "execution_count": null,
   "id": "69baaf70",
   "metadata": {},
   "outputs": [
    {
     "name": "stderr",
     "output_type": "stream",
     "text": [
      " 49%|█████████████████████████████████████████▎                                          | 49133/100000 [00:13<00:13, 3685.19it/s]"
     ]
    }
   ],
   "source": [
    "# comparison with the spanning tree function already in tree_utils\n",
    "data = tu.sample_STs(all_trees, \"UST\", num_trials)\n",
    "tu.plot_sampled_STs(all_trees, data)"
   ]
  },
  {
   "cell_type": "code",
   "execution_count": null,
   "id": "3f92eb4b",
   "metadata": {},
   "outputs": [],
   "source": []
  }
 ],
 "metadata": {
  "kernelspec": {
   "display_name": "Python 3 (ipykernel)",
   "language": "python",
   "name": "python3"
  },
  "language_info": {
   "codemirror_mode": {
    "name": "ipython",
    "version": 3
   },
   "file_extension": ".py",
   "mimetype": "text/x-python",
   "name": "python",
   "nbconvert_exporter": "python",
   "pygments_lexer": "ipython3",
   "version": "3.11.3"
  }
 },
 "nbformat": 4,
 "nbformat_minor": 5
}
