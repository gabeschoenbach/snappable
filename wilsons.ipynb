{
 "cells": [
  {
   "cell_type": "code",
   "execution_count": 1,
   "id": "61eb4ddc",
   "metadata": {},
   "outputs": [
    {
     "name": "stdout",
     "output_type": "stream",
     "text": [
      "Intel MKL WARNING: Support of Intel(R) Streaming SIMD Extensions 4.2 (Intel(R) SSE4.2) enabled only processors has been deprecated. Intel oneAPI Math Kernel Library 2025.0 will require Intel(R) Advanced Vector Extensions (Intel(R) AVX) instructions.\n",
      "Intel MKL WARNING: Support of Intel(R) Streaming SIMD Extensions 4.2 (Intel(R) SSE4.2) enabled only processors has been deprecated. Intel oneAPI Math Kernel Library 2025.0 will require Intel(R) Advanced Vector Extensions (Intel(R) AVX) instructions.\n"
     ]
    },
    {
     "data": {
      "text/plain": [
       "\"\\nWilson's Alg:\\n- Randomly pick a sink\\n- take a lerw towards the sink\\n- remember the tree\\n- keep doing until done\\n\""
      ]
     },
     "execution_count": 1,
     "metadata": {},
     "output_type": "execute_result"
    }
   ],
   "source": [
    "import matplotlib.pyplot as plt\n",
    "import tree_utils as tu\n",
    "from tqdm import tqdm\n",
    "import networkx as nx\n",
    "import numpy as np\n",
    "import random\n",
    "from sklearn.preprocessing import normalize\n",
    "\n",
    "\"\"\"\n",
    "Wilson's Alg:\n",
    "- Randomly pick a sink\n",
    "- take a lerw towards the sink\n",
    "- remember the tree\n",
    "- keep doing until done\n",
    "\"\"\""
   ]
  },
  {
   "cell_type": "code",
   "execution_count": 2,
   "id": "1fc0abbf",
   "metadata": {},
   "outputs": [
    {
     "data": {
      "image/png": "[encoded data removed]",
      "text/plain": [
       "<Figure size 300x300 with 1 Axes>"
      ]
     },
     "metadata": {},
     "output_type": "display_data"
    }
   ],
   "source": [
    "def reverse_dict(d):\n",
    "    new_dict = dict()\n",
    "    for k, v in d.items():\n",
    "        new_dict[v] = k\n",
    "    return new_dict\n",
    "\n",
    "dims = (3, 3)\n",
    "g = tu.generate_grid_graph(dims, queen=False)\n",
    "\n",
    "# relabel nodes for ease later\n",
    "labels = {node: (dims[0] * node[0]) + node[1] + 1 for node in g.nodes}\n",
    "g = nx.relabel_nodes(g, labels, copy=False)\n",
    "node_map = reverse_dict(labels)\n",
    "\n",
    "tu.draw(g, node_map=node_map)"
   ]
  },
  {
   "cell_type": "code",
   "execution_count": 96,
   "id": "704d0014",
   "metadata": {},
   "outputs": [],
   "source": [
    "def wilsons(g):\n",
    "    root = randomly_pick_root(g)\n",
    "#     print(\"Root: \", root)\n",
    "    tree = nx.Graph()\n",
    "    tree.add_node(root)\n",
    "    \n",
    "    while tree.number_of_nodes() < g.number_of_nodes():\n",
    "        add_branch(g, tree, root)\n",
    "#         print(\"Added branch to tree, current tree: \", tree.edges)\n",
    "        \n",
    "#     print(\"Done with tree\")\n",
    "#     print()\n",
    "    return tree\n",
    "\n",
    "def randomly_pick_root(g):\n",
    "    return random.choice(list(g.nodes))\n",
    "\n",
    "def pick_leaf(g, tree):\n",
    "    candidates = list(set(g.nodes()) - set(tree.nodes()))\n",
    "    return random.choice(candidates)\n",
    "\n",
    "def erase_singletons(branch):\n",
    "    # remove the singletons after erasing the loop\n",
    "    to_remove = []\n",
    "    for node in branch.nodes:\n",
    "        if len(list(branch.neighbors(node))) == 0:\n",
    "            to_remove.append(node)\n",
    "    for node in to_remove:\n",
    "        branch.remove_node(node)\n",
    "            \n",
    "def erase_loop_if_exists(branch, g):\n",
    "    try:\n",
    "        cycle = nx.find_cycle(branch)\n",
    "        \n",
    "#         print(\"Cycle found! \", cycle)\n",
    "        for (u, v) in cycle:\n",
    "            branch.remove_edge(u, v)\n",
    "        erase_singletons(branch)\n",
    "        \n",
    "    except nx.exception.NetworkXNoCycle:\n",
    "        pass\n",
    "\n",
    "\n",
    "def add_branch(g, tree, root):\n",
    "    leaf = pick_leaf(g, tree)\n",
    "    curr = leaf\n",
    "    branch = nx.Graph()\n",
    "    reached_root = False\n",
    "    \n",
    "    while reached_root is False:\n",
    "        nxt = random.choice(list(g.neighbors(curr)))\n",
    "        \n",
    "#         print(\"Adding edge: \", (curr, nxt))\n",
    "        if branch.has_edge(curr, nxt):\n",
    "#             print(\"Small cycle found!\")\n",
    "            branch.remove_edge(curr, nxt)\n",
    "            erase_singletons(branch)\n",
    "            curr = nxt\n",
    "            continue\n",
    "            \n",
    "        \n",
    "        branch.add_edge(curr, nxt)\n",
    "        erase_loop_if_exists(branch, g)\n",
    "#         print(\"Current branch:\", branch.edges)\n",
    "        curr = nxt\n",
    "\n",
    "        if nxt in tree.nodes():\n",
    "            reached_root = True\n",
    "            \n",
    "    tree = tree.update(branch.edges, branch.nodes)"
   ]
  },
  {
   "cell_type": "code",
   "execution_count": 99,
   "id": "1181676d",
   "metadata": {
    "scrolled": true
   },
   "outputs": [],
   "source": [
    "def test_valid_tree(tree, g):\n",
    "    assert(len(list(nx.connected_components(tree))) == 1)\n",
    "    assert(len(tree.edges) == len(g.nodes)-1)\n",
    "\n",
    "for i in range(1000):\n",
    "    tree = wilsons(g)\n",
    "    test_valid_tree(tree, g)\n",
    "# tu.draw(tree, node_map=node_map)"
   ]
  },
  {
   "cell_type": "code",
   "execution_count": 75,
   "id": "1252517e",
   "metadata": {},
   "outputs": [
    {
     "data": {
      "text/plain": [
       "2"
      ]
     },
     "execution_count": 75,
     "metadata": {},
     "output_type": "execute_result"
    }
   ],
   "source": [
    "len(list(nx.connected_components(tree)))"
   ]
  },
  {
   "cell_type": "code",
   "execution_count": 76,
   "id": "b8caaa28",
   "metadata": {},
   "outputs": [
    {
     "data": {
      "text/plain": [
       "[{1, 4, 5, 7, 8, 9}, {2, 3, 6}]"
      ]
     },
     "execution_count": 76,
     "metadata": {},
     "output_type": "execute_result"
    }
   ],
   "source": [
    "list(nx.connected_components(tree))"
   ]
  },
  {
   "cell_type": "code",
   "execution_count": 78,
   "id": "65a770e2",
   "metadata": {},
   "outputs": [
    {
     "data": {
      "image/png": "[encoded data removed]",
      "text/plain": [
       "<Figure size 300x300 with 1 Axes>"
      ]
     },
     "metadata": {},
     "output_type": "display_data"
    }
   ],
   "source": [
    "tu.draw(tree, node_map=node_map)"
   ]
  },
  {
   "cell_type": "code",
   "execution_count": null,
   "id": "fd75b8b6",
   "metadata": {},
   "outputs": [],
   "source": []
  }
 ],
 "metadata": {
  "kernelspec": {
   "display_name": "Python 3 (ipykernel)",
   "language": "python",
   "name": "python3"
  },
  "language_info": {
   "codemirror_mode": {
    "name": "ipython",
    "version": 3
   },
   "file_extension": ".py",
   "mimetype": "text/x-python",
   "name": "python",
   "nbconvert_exporter": "python",
   "pygments_lexer": "ipython3",
   "version": "3.11.3"
  }
 },
 "nbformat": 4,
 "nbformat_minor": 5
}
