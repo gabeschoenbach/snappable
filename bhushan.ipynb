{
 "cells": [
  {
   "cell_type": "code",
   "execution_count": 1,
   "id": "43c95c98",
   "metadata": {},
   "outputs": [
    {
     "name": "stdout",
     "output_type": "stream",
     "text": [
      "Intel MKL WARNING: Support of Intel(R) Streaming SIMD Extensions 4.2 (Intel(R) SSE4.2) enabled only processors has been deprecated. Intel oneAPI Math Kernel Library 2025.0 will require Intel(R) Advanced Vector Extensions (Intel(R) AVX) instructions.\n",
      "Intel MKL WARNING: Support of Intel(R) Streaming SIMD Extensions 4.2 (Intel(R) SSE4.2) enabled only processors has been deprecated. Intel oneAPI Math Kernel Library 2025.0 will require Intel(R) Advanced Vector Extensions (Intel(R) AVX) instructions.\n"
     ]
    }
   ],
   "source": [
    "from networkx.algorithms.tree.mst import SpanningTreeIterator\n",
    "import matplotlib.pyplot as plt\n",
    "import tree_utils as tu\n",
    "from tqdm import tqdm\n",
    "import networkx as nx\n",
    "import numpy as np\n",
    "import random"
   ]
  },
  {
   "cell_type": "code",
   "execution_count": 2,
   "id": "f0c17224",
   "metadata": {},
   "outputs": [],
   "source": [
    "def generate_grid_graph(dims):        \n",
    "    g = nx.grid_graph(dim=dims)\n",
    "    # nx.relabel_nodes(g, {node: (N * node[0]) + node[1] + 1 for node in g.nodes}, copy=False)\n",
    "    for edge in g.edges:\n",
    "        u, v = edge\n",
    "        g[u][v]['weight'] = 1\n",
    "    return g\n",
    "\n",
    "def enumerate_all_trees(g):\n",
    "    trees = SpanningTreeIterator(g)\n",
    "    trees = []\n",
    "    for tree in tqdm(SpanningTreeIterator(g)):\n",
    "        trees.append(tree)\n",
    "    return trees\n",
    "\n",
    "def sample_trees(g, func, N):\n",
    "    trees = []\n",
    "    for _ in tqdm(range(N)):\n",
    "        tree = func(g)\n",
    "        trees.append(tree)\n",
    "    return trees\n",
    "\n",
    "def make_tree_dict(trees, ds):\n",
    "    tree_dict = {}\n",
    "    for tree in tqdm(trees):\n",
    "        d_dict = {}\n",
    "        for d in ds:\n",
    "            d_dict[d] = tu.find_balance_edge(tree, d)\n",
    "        tree_dict[tree] = d_dict\n",
    "    return tree_dict\n",
    "\n",
    "def make_counting_dict(g, tree_dict, ds):\n",
    "    counting_dict = {}\n",
    "    for d in ds:\n",
    "        counting_dict[d] = {e: 0 for e in g.edges}\n",
    "        for tree in tqdm(tree_dict):\n",
    "            balance_edges = tree_dict[tree][d]\n",
    "            for balance_edge in balance_edges:\n",
    "                counting_dict[d][balance_edge] += 1\n",
    "    return counting_dict"
   ]
  },
  {
   "cell_type": "code",
   "execution_count": 100,
   "id": "fab87d39",
   "metadata": {},
   "outputs": [
    {
     "data": {
      "image/png": "[encoded data removed]",
      "text/plain": [
       "<Figure size 300x200 with 1 Axes>"
      ]
     },
     "metadata": {},
     "output_type": "display_data"
    }
   ],
   "source": [
    "dims = (2, 3)\n",
    "queen = generate_grid_graph(dims)\n",
    "# queen.add_edge((0,0),(1, 1))\n",
    "# queen[(0, 0)][(1, 1)]['weight'] = 1\n",
    "\n",
    "for i in range(dims[1]-1):\n",
    "    for j in range(dims[0]):\n",
    "        if j<(dims[0]-1):\n",
    "            queen.add_edge((i,j),(i+1,j+1))\n",
    "            queen[(i,j)][(i+1,j+1)]['weight'] = 1\n",
    "        if j >0:\n",
    "            queen.add_edge((i,j),(i+1,j-1))\n",
    "            queen[(i,j)][(i+1,j-1)]['weight'] = 1\n",
    "tu.draw(queen)"
   ]
  },
  {
   "cell_type": "code",
   "execution_count": 101,
   "id": "e785f698",
   "metadata": {},
   "outputs": [
    {
     "name": "stderr",
     "output_type": "stream",
     "text": [
      "192it [00:00, 2778.22it/s]\n",
      "100%|████████████████████████████████████████████████████████████████████████████████████████████████████████| 192/192 [00:00<00:00, 20535.15it/s]\n",
      "100%|██████████████████████████████████████████████████████████████████████████████████████████████████████| 192/192 [00:00<00:00, 1288490.19it/s]\n"
     ]
    }
   ],
   "source": [
    "# queen_trees = sample_trees(queen, tu.uniform_random_spanning_tree, 100000)\n",
    "queen_trees = enumerate_all_trees(queen)\n",
    "\n",
    "ds = [0]\n",
    "queen_tree_dict = make_tree_dict(queen_trees, ds)\n",
    "queen_counting_dict = make_counting_dict(queen, queen_tree_dict, ds)"
   ]
  },
  {
   "cell_type": "code",
   "execution_count": 102,
   "id": "a30d6645",
   "metadata": {},
   "outputs": [
    {
     "name": "stderr",
     "output_type": "stream",
     "text": [
      "/var/folders/p1/b5r1bfts7wzfpyn0b3149s480000gn/T/ipykernel_13741/2329373901.py:14: MatplotlibDeprecationWarning: Unable to determine Axes to steal space for Colorbar. Using gca(), but will raise in the future. Either provide the *cax* argument to use as the Axes for the Colorbar, provide the *ax* argument to steal space from it, or add *mappable* to an Axes.\n",
      "  plt.colorbar(sm, fraction=0.046, pad=0.01)\n"
     ]
    },
    {
     "data": {
      "image/png": "[encoded data removed]",
      "text/plain": [
       "<Figure size 300x200 with 2 Axes>"
      ]
     },
     "metadata": {},
     "output_type": "display_data"
    }
   ],
   "source": [
    "# how often is this edge snappable?\n",
    "plt.figure(figsize=(dims[1], dims[0])) # this is needed to keep aspect ratio correct\n",
    "plt.tight_layout()\n",
    "nx.draw(queen,\n",
    "        pos={(x,y): (x, y) for x,y in queen.nodes()},\n",
    "        width=2,\n",
    "        with_labels=False,\n",
    "        node_size=80,\n",
    "        edge_color=[queen_counting_dict[0][e] for e in queen.edges()],\n",
    "        edge_cmap=plt.cm.Reds\n",
    "       )\n",
    "sm = plt.cm.ScalarMappable(cmap=plt.cm.Reds)#, norm=plt.Normalize(vmin=0, vmax=1))\n",
    "sm.set_array([])\n",
    "plt.colorbar(sm, fraction=0.046, pad=0.01)\n",
    "plt.show()"
   ]
  },
  {
   "cell_type": "code",
   "execution_count": 106,
   "id": "2b702dad",
   "metadata": {},
   "outputs": [
    {
     "name": "stderr",
     "output_type": "stream",
     "text": [
      "100%|████████████████████████████████████████████████████████████████████████████████████████████████████████| 192/192 [00:00<00:00, 75030.87it/s]\n",
      "/var/folders/p1/b5r1bfts7wzfpyn0b3149s480000gn/T/ipykernel_13741/99912512.py:22: MatplotlibDeprecationWarning: Unable to determine Axes to steal space for Colorbar. Using gca(), but will raise in the future. Either provide the *cax* argument to use as the Axes for the Colorbar, provide the *ax* argument to steal space from it, or add *mappable* to an Axes.\n",
      "  plt.colorbar(sm, fraction=0.046, pad=0.01)\n"
     ]
    },
    {
     "data": {
      "image/png": "[encoded data removed]",
      "text/plain": [
       "<Figure size 300x200 with 2 Axes>"
      ]
     },
     "metadata": {},
     "output_type": "display_data"
    }
   ],
   "source": [
    "# how often is this edge used in a spanning tree?\n",
    "counter = {}\n",
    "for edge in queen.edges: # initialize\n",
    "    counter[edge] = 0\n",
    "    \n",
    "for tree in tqdm(queen_trees):\n",
    "    for edge in tree.edges:\n",
    "        counter[edge] += 1\n",
    "\n",
    "plt.figure(figsize=(dims[1], dims[0])) # this is needed to keep aspect ratio correct\n",
    "plt.tight_layout()\n",
    "nx.draw(queen,\n",
    "        pos={(x,y): (x, y) for x,y in queen.nodes()},\n",
    "        width=2,\n",
    "        with_labels=False,\n",
    "        node_size=80,\n",
    "        edge_color=[counter[e] for e in queen.edges()],\n",
    "        edge_cmap=plt.cm.Reds\n",
    "       )\n",
    "sm = plt.cm.ScalarMappable(cmap=plt.cm.Reds)#, norm=plt.Normalize(vmin=0, vmax=1))\n",
    "sm.set_array([])\n",
    "plt.colorbar(sm, fraction=0.046, pad=0.01)\n",
    "plt.show()"
   ]
  },
  {
   "cell_type": "code",
   "execution_count": 61,
   "id": "cce98898",
   "metadata": {},
   "outputs": [
    {
     "name": "stderr",
     "output_type": "stream",
     "text": [
      "/var/folders/p1/b5r1bfts7wzfpyn0b3149s480000gn/T/ipykernel_13741/641503238.py:13: MatplotlibDeprecationWarning: Unable to determine Axes to steal space for Colorbar. Using gca(), but will raise in the future. Either provide the *cax* argument to use as the Axes for the Colorbar, provide the *ax* argument to steal space from it, or add *mappable* to an Axes.\n",
      "  plt.colorbar(sm, fraction=0.046, pad=0.01)\n"
     ]
    },
    {
     "data": {
      "image/png": "[encoded data removed]",
      "text/plain": [
       "<Figure size 200x200 with 2 Axes>"
      ]
     },
     "metadata": {},
     "output_type": "display_data"
    }
   ],
   "source": [
    "plt.figure(figsize=(dims[1], dims[0])) # this is needed to keep aspect ratio correct\n",
    "plt.tight_layout()\n",
    "nx.draw(queen,\n",
    "        pos={(x,y): (x, y) for x,y in queen.nodes()},\n",
    "        width=2,\n",
    "        with_labels=False,\n",
    "        node_size=80,\n",
    "        edge_color=[nx.resistance_distance(queen, u, v) for u, v in queen.edges()],\n",
    "        edge_cmap=plt.cm.Reds\n",
    "       )\n",
    "sm = plt.cm.ScalarMappable(cmap=plt.cm.Reds)#, norm=plt.Normalize(vmin=0, vmax=1))\n",
    "sm.set_array([])\n",
    "plt.colorbar(sm, fraction=0.046, pad=0.01)\n",
    "plt.show()"
   ]
  },
  {
   "cell_type": "code",
   "execution_count": 64,
   "id": "d67e80e0",
   "metadata": {},
   "outputs": [
    {
     "data": {
      "text/plain": [
       "array([0., 0., 1., 0., 0.])"
      ]
     },
     "execution_count": 64,
     "metadata": {},
     "output_type": "execute_result"
    }
   ],
   "source": [
    "inverse_resist = [1/nx.resistance_distance(queen, u, v) for u, v in queen.edges()]\n",
    "ir_norm = (inverse_resist-np.min(inverse_resist))/(np.max(inverse_resist)-np.min(inverse_resist))\n",
    "ir_norm"
   ]
  },
  {
   "cell_type": "code",
   "execution_count": 53,
   "id": "40245973",
   "metadata": {},
   "outputs": [
    {
     "name": "stderr",
     "output_type": "stream",
     "text": [
      "/var/folders/p1/b5r1bfts7wzfpyn0b3149s480000gn/T/ipykernel_13741/2215771989.py:2: RuntimeWarning: invalid value encountered in divide\n",
      "  x_norm = (x-np.min(x))/(np.max(x)-np.min(x))\n"
     ]
    },
    {
     "data": {
      "text/plain": [
       "array([nan, nan, nan, nan])"
      ]
     },
     "execution_count": 53,
     "metadata": {},
     "output_type": "execute_result"
    }
   ],
   "source": [
    "x = [queen_counting_dict[0][e] for e in queen.edges()]\n",
    "x_norm = (x-np.min(x))/(np.max(x)-np.min(x))\n",
    "x_norm"
   ]
  },
  {
   "cell_type": "code",
   "execution_count": 103,
   "id": "b6bbf80d",
   "metadata": {},
   "outputs": [
    {
     "data": {
      "text/plain": [
       "{((0, 0), (1, 0)): 11,\n",
       " ((0, 0), (0, 1)): 4,\n",
       " ((0, 0), (1, 1)): 11,\n",
       " ((0, 1), (1, 1)): 11,\n",
       " ((0, 1), (1, 0)): 11,\n",
       " ((1, 0), (2, 0)): 11,\n",
       " ((1, 0), (1, 1)): 22,\n",
       " ((1, 0), (2, 1)): 11,\n",
       " ((1, 1), (2, 1)): 11,\n",
       " ((1, 1), (2, 0)): 11,\n",
       " ((2, 0), (2, 1)): 4}"
      ]
     },
     "execution_count": 103,
     "metadata": {},
     "output_type": "execute_result"
    }
   ],
   "source": [
    "queen_counting_dict[0]"
   ]
  },
  {
   "cell_type": "code",
   "execution_count": 105,
   "id": "0b61cfff",
   "metadata": {},
   "outputs": [
    {
     "data": {
      "text/plain": [
       "192"
      ]
     },
     "execution_count": 105,
     "metadata": {},
     "output_type": "execute_result"
    }
   ],
   "source": [
    "len(queen_trees)"
   ]
  },
  {
   "cell_type": "code",
   "execution_count": 107,
   "id": "c0725b82",
   "metadata": {},
   "outputs": [
    {
     "data": {
      "text/plain": [
       "{((0, 0), (1, 0)): 88,\n",
       " ((0, 0), (0, 1)): 96,\n",
       " ((0, 0), (1, 1)): 88,\n",
       " ((0, 1), (1, 1)): 88,\n",
       " ((0, 1), (1, 0)): 88,\n",
       " ((1, 0), (2, 0)): 88,\n",
       " ((1, 0), (1, 1)): 64,\n",
       " ((1, 0), (2, 1)): 88,\n",
       " ((1, 1), (2, 1)): 88,\n",
       " ((1, 1), (2, 0)): 88,\n",
       " ((2, 0), (2, 1)): 96}"
      ]
     },
     "execution_count": 107,
     "metadata": {},
     "output_type": "execute_result"
    }
   ],
   "source": [
    "counter"
   ]
  },
  {
   "cell_type": "code",
   "execution_count": 113,
   "id": "5a40f7d0",
   "metadata": {},
   "outputs": [
    {
     "name": "stdout",
     "output_type": "stream",
     "text": [
      "((0, 0), (1, 0))  :  0.125\n",
      "((0, 0), (0, 1))  :  0.041666666666666664\n",
      "((0, 0), (1, 1))  :  0.125\n",
      "((0, 1), (1, 1))  :  0.125\n",
      "((0, 1), (1, 0))  :  0.125\n",
      "((1, 0), (2, 0))  :  0.125\n",
      "((1, 0), (1, 1))  :  0.34375\n",
      "((1, 0), (2, 1))  :  0.125\n",
      "((1, 1), (2, 1))  :  0.125\n",
      "((1, 1), (2, 0))  :  0.125\n",
      "((2, 0), (2, 1))  :  0.041666666666666664\n"
     ]
    }
   ],
   "source": [
    "for e in queen.edges():\n",
    "    print(e, \" : \", queen_counting_dict[0][e] / counter[e])"
   ]
  },
  {
   "cell_type": "code",
   "execution_count": null,
   "id": "5d1c6f8e",
   "metadata": {},
   "outputs": [],
   "source": []
  },
  {
   "cell_type": "code",
   "execution_count": null,
   "id": "c27173e0",
   "metadata": {},
   "outputs": [],
   "source": []
  }
 ],
 "metadata": {
  "kernelspec": {
   "display_name": "Python 3 (ipykernel)",
   "language": "python",
   "name": "python3"
  },
  "language_info": {
   "codemirror_mode": {
    "name": "ipython",
    "version": 3
   },
   "file_extension": ".py",
   "mimetype": "text/x-python",
   "name": "python",
   "nbconvert_exporter": "python",
   "pygments_lexer": "ipython3",
   "version": "3.11.3"
  }
 },
 "nbformat": 4,
 "nbformat_minor": 5
}
