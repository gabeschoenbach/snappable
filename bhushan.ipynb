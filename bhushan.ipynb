{
 "cells": [
  {
   "cell_type": "code",
   "execution_count": 1,
   "id": "43c95c98",
   "metadata": {},
   "outputs": [
    {
     "name": "stdout",
     "output_type": "stream",
     "text": [
      "Intel MKL WARNING: Support of Intel(R) Streaming SIMD Extensions 4.2 (Intel(R) SSE4.2) enabled only processors has been deprecated. Intel oneAPI Math Kernel Library 2025.0 will require Intel(R) Advanced Vector Extensions (Intel(R) AVX) instructions.\n",
      "Intel MKL WARNING: Support of Intel(R) Streaming SIMD Extensions 4.2 (Intel(R) SSE4.2) enabled only processors has been deprecated. Intel oneAPI Math Kernel Library 2025.0 will require Intel(R) Advanced Vector Extensions (Intel(R) AVX) instructions.\n"
     ]
    },
    {
     "data": {
      "text/plain": [
       "'\\nNote:\\nThe frontier is strictly suppposed to be used as edges only. There will be straggling nodes lying around that \\nyou need to be careful for. \\n\\nThis is especially important for concatenating graphs. in stead of combining, it is best to place the edges into\\na new graph one by one.\\n'"
      ]
     },
     "execution_count": 1,
     "metadata": {},
     "output_type": "execute_result"
    }
   ],
   "source": [
    "import matplotlib.pyplot as plt\n",
    "import tree_utils as tu\n",
    "from tqdm import tqdm\n",
    "import networkx as nx\n",
    "import numpy as np\n",
    "import random\n",
    "from sklearn.preprocessing import normalize\n",
    "\n",
    "\"\"\"\n",
    "Note:\n",
    "The frontier is strictly suppposed to be used as edges only. There will be straggling nodes lying around that \n",
    "you need to be careful for. \n",
    "\n",
    "This is especially important for concatenating graphs. in stead of combining, it is best to place the edges into\n",
    "a new graph one by one.\n",
    "\"\"\"\n"
   ]
  },
  {
   "cell_type": "code",
   "execution_count": 11,
   "id": "fab87d39",
   "metadata": {},
   "outputs": [
    {
     "name": "stderr",
     "output_type": "stream",
     "text": [
      "16it [00:00, 1826.69it/s]\n",
      "100%|███████████████████████████████████████████████████████████████████████| 16/16 [00:00<00:00, 8944.27it/s]\n",
      "100%|█████████████████████████████████████████████████████████████████████| 16/16 [00:00<00:00, 129304.17it/s]\n"
     ]
    }
   ],
   "source": [
    "dims = (2, 2)\n",
    "g = tu.generate_grid_graph(dims, queen=True)\n",
    "\n",
    "# g = nx.relabel_nodes(g, {node: (dims[0] * node[0]) + node[1] + 1 for node in g.nodes}, copy=False)\n",
    "# tu.draw(g)\n",
    "\n",
    "# queen_trees = sample_trees(queen, tu.uniform_random_spanning_tree, 100000)\n",
    "trees = tu.enumerate_all_trees(g)\n",
    "\n",
    "ds = [0]\n",
    "tree_dict = tu.make_tree_dict(trees, ds)\n",
    "counting_dict = tu.make_counting_dict(g, tree_dict, ds)"
   ]
  },
  {
   "cell_type": "code",
   "execution_count": 5,
   "id": "613889e5",
   "metadata": {
    "scrolled": true
   },
   "outputs": [],
   "source": [
    "def valid_run(snapped_edge, cc1, cc2):\n",
    "    u, v = snapped_edge\n",
    "    g = nx.Graph()\n",
    "    g.add_edge(u, v)\n",
    "    \n",
    "    for edge in cc1.edges:\n",
    "        u, v = edge\n",
    "        g.add_edge(u, v)\n",
    "        \n",
    "    for edge in cc2.edges:\n",
    "        u, v = edge\n",
    "        g.add_edge(u, v)\n",
    "        \n",
    "    return nx.is_tree(g), g     \n",
    "\n",
    "def get_ccs(g, counting_dict, snapped_edge):\n",
    "#     print()\n",
    "#     print(\"new\")\n",
    "    \n",
    "#     u, v = tu.sample_edge_from_counts(counting_dict)\n",
    "    cc1, cc2, cc1_frontier, cc2_frontier = tu.initialize(g, snapped_edge)\n",
    "    target_size = len(g.nodes)/2\n",
    "\n",
    "    while not tu.trees_correct_sizes(cc1, cc2, target_size):\n",
    "        if tu.is_bottlenecked(cc1, cc1_frontier, target_size):\n",
    "            tu.break_bottleneck(g, cc1, cc2, snapped_edge, cc1_frontier, cc2_frontier)\n",
    "\n",
    "        if len(cc1.nodes) != target_size:\n",
    "            tu.sample_from_frontier_to_cc(g, cc1_frontier, cc1, cc2_frontier, cc2)\n",
    "\n",
    "        if tu.is_bottlenecked(cc2, cc2_frontier, target_size):\n",
    "            tu.break_bottleneck(g, cc2, cc1, snapped_edge, cc2_frontier, cc1_frontier)\n",
    "\n",
    "        if len(cc2.nodes) != target_size:\n",
    "            tu.sample_from_frontier_to_cc(g, cc2_frontier, cc2, cc1_frontier, cc1)\n",
    "    \n",
    "    result, tree = valid_run(snapped_edge, cc1, cc2)\n",
    "    return tree\n",
    "    \n",
    "edge_map = dict()\n",
    "for i, edge in enumerate(g.edges):\n",
    "    edge_map[edge] = i\n",
    "    \n",
    "tree_counter = dict()\n",
    "\n",
    "num_runs = 10000\n",
    "for i in range(num_runs):\n",
    "    tree = get_ccs(g, counting_dict, (3, 4))\n",
    "    edge_set = tuple(sorted([edge_map[tuple(sorted(edge))] for edge in tree.edges]))\n",
    "    if edge_set in tree_counter.keys():\n",
    "        tree_counter[edge_set] += 1\n",
    "    else:\n",
    "        tree_counter[edge_set] = 1\n"
   ]
  },
  {
   "cell_type": "code",
   "execution_count": null,
   "id": "5be347cd",
   "metadata": {},
   "outputs": [],
   "source": [
    "for k, v in tree_counter.items():\n",
    "    tree_counter[k] = v/ num_runs"
   ]
  },
  {
   "cell_type": "code",
   "execution_count": 6,
   "id": "6caa530f",
   "metadata": {},
   "outputs": [
    {
     "data": {
      "text/plain": [
       "{(1, 2, 3, 4, 5): 7527, (0, 2, 3, 4, 6): 1268, (0, 1, 3, 5, 6): 1205}"
      ]
     },
     "execution_count": 6,
     "metadata": {},
     "output_type": "execute_result"
    }
   ],
   "source": [
    "tree_counter"
   ]
  },
  {
   "cell_type": "code",
   "execution_count": 7,
   "id": "970371a1",
   "metadata": {},
   "outputs": [
    {
     "data": {
      "text/plain": [
       "{(1, 2): 0, (1, 3): 1, (2, 4): 2, (3, 4): 3, (3, 5): 4, (4, 6): 5, (5, 6): 6}"
      ]
     },
     "execution_count": 7,
     "metadata": {},
     "output_type": "execute_result"
    }
   ],
   "source": [
    "edge_map"
   ]
  },
  {
   "cell_type": "code",
   "execution_count": 8,
   "id": "0163bd9e",
   "metadata": {},
   "outputs": [
    {
     "data": {
      "text/plain": [
       "{(1, 2): 0, (1, 3): 1, (2, 4): 2, (3, 4): 3, (3, 5): 4, (4, 6): 5, (5, 6): 6}"
      ]
     },
     "execution_count": 8,
     "metadata": {},
     "output_type": "execute_result"
    }
   ],
   "source": [
    "edge_map"
   ]
  },
  {
   "cell_type": "code",
   "execution_count": 12,
   "id": "d791339a",
   "metadata": {},
   "outputs": [
    {
     "data": {
      "image/png": "[encoded data removed]",
      "text/plain": [
       "<Figure size 200x200 with 1 Axes>"
      ]
     },
     "metadata": {},
     "output_type": "display_data"
    }
   ],
   "source": [
    "for tree in trees:\n",
    "    tu.draw(tree)"
   ]
  },
  {
   "cell_type": "code",
   "execution_count": 15,
   "id": "8d27c55e",
   "metadata": {},
   "outputs": [
    {
     "data": {
      "image/png": "[encoded data removed]",
      "text/plain": [
       "<Figure size 200x200 with 1 Axes>"
      ]
     },
     "metadata": {},
     "output_type": "display_data"
    }
   ],
   "source": [
    "tu.draw(trees[0])"
   ]
  },
  {
   "cell_type": "code",
   "execution_count": 16,
   "id": "13dc1f4c",
   "metadata": {},
   "outputs": [
    {
     "data": {
      "image/png": "[encoded data removed]",
      "text/plain": [
       "<Figure size 200x200 with 1 Axes>"
      ]
     },
     "metadata": {},
     "output_type": "display_data"
    }
   ],
   "source": [
    "tu.draw(trees[1])"
   ]
  },
  {
   "cell_type": "code",
   "execution_count": null,
   "id": "3ceca7af",
   "metadata": {},
   "outputs": [],
   "source": []
  }
 ],
 "metadata": {
  "kernelspec": {
   "display_name": "Python 3 (ipykernel)",
   "language": "python",
   "name": "python3"
  },
  "language_info": {
   "codemirror_mode": {
    "name": "ipython",
    "version": 3
   },
   "file_extension": ".py",
   "mimetype": "text/x-python",
   "name": "python",
   "nbconvert_exporter": "python",
   "pygments_lexer": "ipython3",
   "version": "3.11.3"
  }
 },
 "nbformat": 4,
 "nbformat_minor": 5
}
