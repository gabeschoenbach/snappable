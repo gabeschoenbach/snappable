{
 "cells": [
  {
   "cell_type": "code",
   "execution_count": 7,
   "id": "cd9cf514-10c6-4c10-ac9e-39a6a63140ab",
   "metadata": {},
   "outputs": [],
   "source": [
    "import matplotlib.pyplot as plt\n",
    "import tree_utils as tu\n",
    "from tqdm import tqdm\n",
    "import networkx as nx\n",
    "import numpy as np\n",
    "import random\n",
    "from sklearn.preprocessing import normalize"
   ]
  },
  {
   "cell_type": "code",
   "execution_count": 122,
   "id": "ceea7814-038c-4e33-a83f-632d0ca1890e",
   "metadata": {},
   "outputs": [],
   "source": [
    "def rev_wilsons(g):\n",
    "    # random.seed(10)\n",
    "    # root = randomly_pick_root(g)\n",
    "    # root = (1,0)\n",
    "    root = pick_root_random_degree(g)\n",
    "    \n",
    "    tree = nx.Graph()\n",
    "    tree.add_node(root)\n",
    "    \n",
    "    while tree.number_of_nodes() < g.number_of_nodes():\n",
    "        add_vertex(g, tree)\n",
    "    \n",
    "    return tree\n",
    "\n",
    "def add_vertex(g, tree):\n",
    "    frontier = find_frontier(g, tree)\n",
    "    \n",
    "    found_vertex = False\n",
    "    while not found_vertex:\n",
    "        neighbor = random.choice(frontier)\n",
    "        random_edge = random.choice(list(g.edges(neighbor)))\n",
    "        if any([node in random_edge for node in tree.nodes]):\n",
    "            tree.update(edges=[random_edge])\n",
    "            found_vertex = True\n",
    "    return\n",
    "\n",
    "def find_frontier(g, tree):\n",
    "    # frontier = set() # weight nodes in the frontier equally\n",
    "    frontier = list() # weight nodes by how \"much\" its in the frontier\n",
    "    \n",
    "    for node in tree.nodes:\n",
    "        neighbors = nx.ego_graph(g, node, center=False).nodes # all nodes connected to node in the graph\n",
    "        for neighbor in neighbors:\n",
    "            if neighbor not in tree.nodes:\n",
    "                # frontier.add(neighbor)\n",
    "                frontier.append(neighbor)\n",
    "    return list(frontier)"
   ]
  },
  {
   "cell_type": "code",
   "execution_count": 123,
   "id": "39314dfe-9a89-4d2f-896d-da07a8c2b600",
   "metadata": {},
   "outputs": [],
   "source": [
    "def wilsons(g):\n",
    "    root = randomly_pick_root(g)\n",
    "    \n",
    "    tree = nx.Graph()\n",
    "    tree.add_node(root)\n",
    "    \n",
    "    while tree.number_of_nodes() < g.number_of_nodes():\n",
    "        add_branch(g, tree)\n",
    "        \n",
    "    return tree\n",
    "\n",
    "def randomly_pick_root(g):\n",
    "    return random.choice(list(g.nodes))\n",
    "\n",
    "# Function to perform a weighted random choice TODO: CHECK IF THESE TWO FUNCTIONS ARE CORRECT!\n",
    "def weighted_choice(choices):\n",
    "    total = sum(w for c, w in choices.items())\n",
    "    r = random.uniform(0, total)\n",
    "    upto = 0\n",
    "    for c, w in choices.items():\n",
    "        if upto + w >= r:\n",
    "            return c\n",
    "        upto += w\n",
    "\n",
    "def pick_root_random_degree(g):\n",
    "    node_degrees = dict(g.degree())\n",
    "    weighted_nodes = {node: degree for node, degree in node_degrees.items()}\n",
    "    return weighted_choice(weighted_nodes)\n",
    "    \n",
    "\n",
    "def pick_leaf(g, tree):\n",
    "    candidates = list(set(g.nodes()) - set(tree.nodes()))\n",
    "    return random.choice(candidates)\n",
    "\n",
    "def erase_singletons(branch):\n",
    "    \"\"\" Removes the nodes that do not have any edges from the networkx graph ``branch\".\n",
    "    \"\"\"\n",
    "    # remove the singletons after erasing the loop\n",
    "    to_remove = []\n",
    "    for node in branch.nodes:\n",
    "        if len(list(branch.neighbors(node))) == 0:\n",
    "            to_remove.append(node)\n",
    "    for node in to_remove:\n",
    "        branch.remove_node(node)\n",
    "            \n",
    "def erase_loop_if_exists(branch):\n",
    "    \"\"\" \n",
    "    \"\"\"\n",
    "    try:\n",
    "        cycle = nx.find_cycle(branch)\n",
    "        \n",
    "        for (u, v) in cycle:\n",
    "            branch.remove_edge(u, v)\n",
    "        erase_singletons(branch)\n",
    "        \n",
    "    except nx.exception.NetworkXNoCycle:\n",
    "        pass\n",
    "\n",
    "def loop_exists(g):\n",
    "    \"\"\" Returns True if cycle exists in graph g.\n",
    "    \"\"\"\n",
    "    try:\n",
    "        cycle = nx.find_cycle(g)\n",
    "        return True\n",
    "    except nx.exception.NetworkXNoCycle:\n",
    "        return False\n",
    "\n",
    "def add_branch(g, tree):\n",
    "    leaf = pick_leaf(g, tree)\n",
    "    curr = leaf\n",
    "    branch = nx.Graph()\n",
    "    reached_root = False\n",
    "    \n",
    "    while reached_root is False:\n",
    "        nxt = random.choice(list(g.neighbors(curr)))\n",
    "        \n",
    "        # handle the case of small two edge cycles\n",
    "        if branch.has_edge(curr, nxt):\n",
    "            branch.remove_edge(curr, nxt)\n",
    "            erase_singletons(branch)\n",
    "            curr = nxt\n",
    "            continue\n",
    "            \n",
    "        \n",
    "        branch.add_edge(curr, nxt)\n",
    "        erase_loop_if_exists(branch)\n",
    "        curr = nxt\n",
    "\n",
    "        if nxt in tree.nodes():\n",
    "            reached_root = True\n",
    "            \n",
    "    tree = tree.update(branch.edges)"
   ]
  },
  {
   "cell_type": "code",
   "execution_count": 65,
   "id": "84224d77-d752-44ca-8d7c-c0e9ff224f7a",
   "metadata": {},
   "outputs": [
    {
     "name": "stdout",
     "output_type": "stream",
     "text": [
      "CPU times: user 1.62 s, sys: 15.2 ms, total: 1.63 s\n",
      "Wall time: 1.65 s\n"
     ]
    }
   ],
   "source": [
    "%%time\n",
    "def test_valid_tree(tree, g):\n",
    "    assert(len(list(nx.connected_components(tree))) == 1)\n",
    "    assert(len(tree.edges) == len(g.nodes)-1)\n",
    "\n",
    "for i in range(1000):\n",
    "    tree = wilsons(g)\n",
    "    test_valid_tree(tree, g)\n",
    "    \n",
    "    tree = rev_wilsons(g)\n",
    "    test_valid_tree(tree, g)"
   ]
  },
  {
   "cell_type": "code",
   "execution_count": 124,
   "id": "40d0ceca-aae0-4eda-a56a-9bb5313b3e0c",
   "metadata": {},
   "outputs": [
    {
     "name": "stderr",
     "output_type": "stream",
     "text": [
      "15it [00:00, 1389.52it/s]\n"
     ]
    },
    {
     "data": {
      "image/png": "[encoded data removed]",
      "text/plain": [
       "<Figure size 300x200 with 1 Axes>"
      ]
     },
     "metadata": {},
     "output_type": "display_data"
    }
   ],
   "source": [
    "dims = (2, 3)\n",
    "g = tu.generate_grid_graph(dims, queen=False)\n",
    "all_trees = [tu.tup(tree) for tree in tu.enumerate_all_trees(g)]\n",
    "tu.draw(g)"
   ]
  },
  {
   "cell_type": "code",
   "execution_count": 76,
   "id": "95da352d-2663-4af7-b89b-0704287a67bc",
   "metadata": {},
   "outputs": [
    {
     "name": "stderr",
     "output_type": "stream",
     "text": [
      "100%|███████████████████████████████████| 10000/10000 [00:04<00:00, 2057.21it/s]\n"
     ]
    },
    {
     "data": {
      "image/png": "[encoded data removed]",
      "text/plain": [
       "<Figure size 1600x300 with 1 Axes>"
      ]
     },
     "metadata": {},
     "output_type": "display_data"
    }
   ],
   "source": [
    "num_trials = 10000\n",
    "data = []\n",
    "\n",
    "for _ in tqdm(range(num_trials)):\n",
    "    tree = wilsons(g)\n",
    "\n",
    "    idx = all_trees.index(tu.tup(tree))\n",
    "    data.append(idx)\n",
    "    \n",
    "tu.plot_sampled_STs(all_trees, data)"
   ]
  },
  {
   "cell_type": "code",
   "execution_count": 126,
   "id": "0b5a334f-2ef3-437d-9399-6229b3eb3fc9",
   "metadata": {},
   "outputs": [
    {
     "name": "stderr",
     "output_type": "stream",
     "text": [
      "100%|██████████████████████████████████| 100000/100000 [02:28<00:00, 674.33it/s]\n"
     ]
    },
    {
     "data": {
      "image/png": "[encoded data removed]",
      "text/plain": [
       "<Figure size 1600x300 with 1 Axes>"
      ]
     },
     "metadata": {},
     "output_type": "display_data"
    }
   ],
   "source": [
    "num_trials = 100000\n",
    "data = []\n",
    "all_indices = set()\n",
    "\n",
    "for _ in tqdm(range(num_trials)):\n",
    "    tree = rev_wilsons(g)\n",
    "\n",
    "    idx = all_trees.index(tu.tup(tree))\n",
    "    all_indices.add(idx)\n",
    "    data.append(idx)\n",
    "    \n",
    "tu.plot_sampled_STs(all_trees, data)"
   ]
  },
  {
   "cell_type": "code",
   "execution_count": 117,
   "id": "43aeb9b3-fa03-424f-b4d1-0e831091f748",
   "metadata": {},
   "outputs": [
    {
     "name": "stderr",
     "output_type": "stream",
     "text": [
      "15it [00:00, 1992.04it/s]\n"
     ]
    },
    {
     "data": {
      "image/png": "[encoded data removed]",
      "text/plain": [
       "<Figure size 300x200 with 1 Axes>"
      ]
     },
     "metadata": {},
     "output_type": "display_data"
    }
   ],
   "source": [
    "# %%time\n",
    "high_prob_trees = []\n",
    "low_prob_trees = []\n",
    "other_trees = []\n",
    "for t in tu.enumerate_all_trees(g):\n",
    "    idx = all_trees.index(tu.tup(t))\n",
    "    if idx == 9:\n",
    "        drawing_tree = t\n",
    "    if idx == 6 or idx == 9:\n",
    "        high_prob_trees.append(t)\n",
    "    elif idx == 5 or idx == 7:\n",
    "        low_prob_trees.append(t)\n",
    "    else:\n",
    "        other_trees.append(t)\n",
    "tu.draw(drawing_tree)"
   ]
  },
  {
   "cell_type": "code",
   "execution_count": 118,
   "id": "657dbdfa-0c38-42cb-8b30-9e919d427802",
   "metadata": {},
   "outputs": [
    {
     "data": {
      "image/png": "[encoded data removed]",
      "text/plain": [
       "<Figure size 300x200 with 1 Axes>"
      ]
     },
     "metadata": {},
     "output_type": "display_data"
    }
   ],
   "source": [
    "drawing_tree.remove_node((1,0))\n",
    "tu.draw(drawing_tree)"
   ]
  },
  {
   "cell_type": "code",
   "execution_count": null,
   "id": "79d72517-1095-4046-a020-2b677c6d8105",
   "metadata": {},
   "outputs": [
    {
     "data": {
      "image/png": "[encoded data removed]",
      "text/plain": [
       "<Figure size 300x200 with 1 Axes>"
      ]
     },
     "metadata": {},
     "output_type": "display_data"
    }
   ],
   "source": [
    "tu.draw(high_prob_trees[0])"
   ]
  },
  {
   "cell_type": "code",
   "execution_count": 61,
   "id": "49bd0144-849c-4eb5-9e0b-35b46477f6c8",
   "metadata": {},
   "outputs": [
    {
     "data": {
      "image/png": "[encoded data removed]",
      "text/plain": [
       "<Figure size 300x200 with 1 Axes>"
      ]
     },
     "metadata": {},
     "output_type": "display_data"
    }
   ],
   "source": [
    "tu.draw(low_prob_trees[1])"
   ]
  },
  {
   "cell_type": "code",
   "execution_count": 63,
   "id": "d65b2f8a-d526-4e6f-b509-c4b75a477482",
   "metadata": {},
   "outputs": [
    {
     "data": {
      "image/png": "[encoded data removed]",
      "text/plain": [
       "<Figure size 300x200 with 1 Axes>"
      ]
     },
     "metadata": {},
     "output_type": "display_data"
    }
   ],
   "source": [
    "tu.draw(other_trees[2])"
   ]
  },
  {
   "cell_type": "code",
   "execution_count": 48,
   "id": "f2805113-0f6f-4381-92ed-e3ece918ca0f",
   "metadata": {},
   "outputs": [
    {
     "data": {
      "text/plain": [
       "[<networkx.classes.graph.Graph at 0x12680c700>,\n",
       " <networkx.classes.graph.Graph at 0x12680c8e0>]"
      ]
     },
     "execution_count": 48,
     "metadata": {},
     "output_type": "execute_result"
    }
   ],
   "source": [
    "other_trees"
   ]
  },
  {
   "cell_type": "code",
   "execution_count": null,
   "id": "5636de13-dc3f-4db4-b084-f9c34ce65109",
   "metadata": {},
   "outputs": [],
   "source": []
  }
 ],
 "metadata": {
  "kernelspec": {
   "display_name": "Python 3 (ipykernel)",
   "language": "python",
   "name": "python3"
  },
  "language_info": {
   "codemirror_mode": {
    "name": "ipython",
    "version": 3
   },
   "file_extension": ".py",
   "mimetype": "text/x-python",
   "name": "python",
   "nbconvert_exporter": "python",
   "pygments_lexer": "ipython3",
   "version": "3.9.6"
  }
 },
 "nbformat": 4,
 "nbformat_minor": 5
}
