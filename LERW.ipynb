{
 "cells": [
  {
   "cell_type": "markdown",
   "id": "00b69504-eea7-4650-adf7-c9eab8362a17",
   "metadata": {},
   "source": [
    "## speeding up wilson's algorithm\n",
    "if we want to speed up wilson's algorithm, maybe we could construct an oracle that tells us the information we need to simulate wilson's algorithm without actually running full loop-erased random walks. one candidate oracle would be one that, given a target node (or set of nodes) and a starting node, gives us a probability distribution over all paths from start to target that would be yielded by a loop-erased random walk. if we had this oracle, we could run wilson's without actually simulating all of those walks.\n",
    "\n",
    "**question:** what does that distribution look like for simple examples? setting aside efficiency for now, how could we compute it?"
   ]
  },
  {
   "cell_type": "code",
   "execution_count": 123,
   "id": "4ac20b47-4f8f-415c-b3a2-2bc1bcaeef29",
   "metadata": {},
   "outputs": [],
   "source": [
    "import matplotlib.pyplot as plt\n",
    "import tree_utils as tu\n",
    "from tqdm import tqdm\n",
    "import networkx as nx\n",
    "import numpy as np\n",
    "import random"
   ]
  },
  {
   "cell_type": "code",
   "execution_count": 2,
   "id": "c3cbd267-c716-47de-8770-a95dbbf20cbc",
   "metadata": {},
   "outputs": [
    {
     "data": {
      "image/png": "[encoded data removed]",
      "text/plain": [
       "<Figure size 400x100 with 1 Axes>"
      ]
     },
     "metadata": {},
     "output_type": "display_data"
    }
   ],
   "source": [
    "dims = (1,4)\n",
    "g = tu.generate_grid_graph(dims, queen=False)\n",
    "tu.draw(g)"
   ]
  },
  {
   "cell_type": "markdown",
   "id": "280d8588-b6b6-4476-bdfb-4e95f08c3665",
   "metadata": {},
   "source": [
    "what is the probability that a loop-erased random walk goes from the leftmost node to the rightmost node directly? in this case, the probability is 1 — there are no other paths from one end to the other. but if we imagined that we placed two more nodes above the middle two nodes and connected them up to form a square in the middle, we would have two possible paths from left to right. it makes sense that it's more likely that a random walk would go along the bottom path (because it's shorter), but i wonder what the probability distribution would be.\n",
    "\n",
    "i think an equivalent way to reformulate the question would to be to consider a path graph of length $(n + m + 1)$ where the start node $s$ is $n$ steps away from the left node $l$ and $m$ steps away from the rightmost node $r$, as below:"
   ]
  },
  {
   "cell_type": "code",
   "execution_count": 14,
   "id": "f3bade28-e87f-4862-acc7-022ca69c5f11",
   "metadata": {},
   "outputs": [
    {
     "data": {
      "image/png": "[encoded data removed]",
      "text/plain": [
       "<Figure size 400x100 with 1 Axes>"
      ]
     },
     "metadata": {},
     "output_type": "display_data"
    }
   ],
   "source": [
    "n = 1\n",
    "m = 2\n",
    "path_length = n + m + 1\n",
    "dims = (1, path_length)\n",
    "node_colors = []\n",
    "for i in range(path_length):\n",
    "    if i == 0 or i == path_length - 1:\n",
    "        color = \"red\"\n",
    "    elif i == n:\n",
    "        color = \"green\"\n",
    "    else:\n",
    "        color = \"black\"\n",
    "    node_colors.append(color)\n",
    "    \n",
    "g = tu.generate_grid_graph(dims, queen=False)\n",
    "tu.draw(g, node_colors=node_colors)"
   ]
  },
  {
   "cell_type": "markdown",
   "id": "ac6d14ea-90b5-4c3e-86bf-bdc3e370c6ab",
   "metadata": {},
   "source": [
    "here the start node $s$ is colored in green and the ending $l$ and $r$ nodes are both colored in red.\n",
    "\n",
    "**question:** consider a simple random walk that starts on the green node and terminates once it hits either red node. what is the probability that the random walk will terminate on $l$?"
   ]
  },
  {
   "cell_type": "code",
   "execution_count": 29,
   "id": "11856203-0b84-442c-b7de-b95d0c683d22",
   "metadata": {},
   "outputs": [],
   "source": [
    "def simulate_walk(n, m):\n",
    "    state = 0\n",
    "    while state != -n and state != m:\n",
    "        if random.random() < 0.5:\n",
    "            state -= 1\n",
    "        else:\n",
    "            state += 1\n",
    "    return state"
   ]
  },
  {
   "cell_type": "code",
   "execution_count": 55,
   "id": "3491d2a3-586b-41ad-8ec5-d03e04bcd1c7",
   "metadata": {},
   "outputs": [
    {
     "name": "stderr",
     "output_type": "stream",
     "text": [
      "100%|█████████████████████████████| 1000000/1000000 [00:01<00:00, 504245.26it/s]\n"
     ]
    }
   ],
   "source": [
    "num_trials = 1000000\n",
    "lefts = 0\n",
    "for _ in tqdm(range(num_trials)):\n",
    "    state = simulate_walk(1, 2)\n",
    "    if np.sign(state) < 0:\n",
    "        lefts += 1"
   ]
  },
  {
   "cell_type": "code",
   "execution_count": 56,
   "id": "668c44d6-e404-438d-8d66-04729d298621",
   "metadata": {},
   "outputs": [
    {
     "data": {
      "text/plain": [
       "0.667383"
      ]
     },
     "execution_count": 56,
     "metadata": {},
     "output_type": "execute_result"
    }
   ],
   "source": [
    "lefts / num_trials"
   ]
  },
  {
   "cell_type": "markdown",
   "id": "24eb8016-c0a7-4dab-979a-c3426bfc855b",
   "metadata": {},
   "source": [
    "## checking proportions of first LERWs in grid graphs"
   ]
  },
  {
   "cell_type": "code",
   "execution_count": 294,
   "id": "3139effc-1e84-4448-afb2-87938c1d8acf",
   "metadata": {},
   "outputs": [
    {
     "data": {
      "image/png": "[encoded data removed]",
      "text/plain": [
       "<Figure size 300x300 with 1 Axes>"
      ]
     },
     "metadata": {},
     "output_type": "display_data"
    }
   ],
   "source": [
    "dims = (3,3)\n",
    "g = tu.generate_grid_graph(dims, queen=False)\n",
    "# g.remove_node((2,1))\n",
    "tu.draw(g)"
   ]
  },
  {
   "cell_type": "code",
   "execution_count": 280,
   "id": "1ab02bc7-0976-421f-8de3-c52a9c214691",
   "metadata": {},
   "outputs": [],
   "source": [
    "def run_lerw(graph, start, target):\n",
    "    tree_nodes = set([target])\n",
    "    next_node = {target: None}\n",
    "    u = start\n",
    "    while u not in tree_nodes:\n",
    "        next_node[u] = random.choice(list(nx.neighbors(graph, u)))\n",
    "        u = next_node[u]\n",
    "    u = start\n",
    "    while u not in tree_nodes:\n",
    "        tree_nodes.add(u)\n",
    "        u = next_node[u]\n",
    "\n",
    "    g = nx.Graph()\n",
    "    g.add_nodes_from(graph.nodes)\n",
    "    for node in tree_nodes:\n",
    "        if next_node[node] is not None:\n",
    "            g.add_edge(node, next_node[node])\n",
    "    return g.edges"
   ]
  },
  {
   "cell_type": "code",
   "execution_count": 295,
   "id": "4ce34dcc-2634-4a7a-a1a6-a19c96cdd7c4",
   "metadata": {},
   "outputs": [
    {
     "name": "stderr",
     "output_type": "stream",
     "text": [
      "100%|████████████████████████████| 10000000/10000000 [09:57<00:00, 16749.16it/s]\n"
     ]
    }
   ],
   "source": [
    "start = (1,1)\n",
    "target = (0,1)\n",
    "\n",
    "all_paths = []\n",
    "for _ in range(1000):\n",
    "    path = run_lerw(g, start, target)\n",
    "    if path not in all_paths:\n",
    "        all_paths.append(path)\n",
    "# assert len(all_paths) == 12\n",
    "\n",
    "def indexer(path):\n",
    "    return all_paths.index(path)\n",
    "\n",
    "num_trials = 10000000\n",
    "path_freqs = {indexer(path): 0 for path in all_paths}\n",
    "for _ in tqdm(range(num_trials)):\n",
    "    path = run_lerw(g, start, target)\n",
    "    path_freqs[indexer(path)] += 1 / num_trials\n",
    "    \n",
    "# The below is to resort the partitions by frequency; it's unnecessarily confusing\n",
    "# resorted_list = sorted([(k, v) for (k, v) in path_freqs.items()], key=lambda x:x[1], reverse=True)\n",
    "\n",
    "# def reindexer(path):\n",
    "#     old_index = indexer(path)\n",
    "#     resorted = [t[0] for t in resorted_list]\n",
    "#     return resorted.index(old_index)\n",
    "\n",
    "# path_freqs = {reindexer(path): 0 for path in all_paths}\n",
    "# num_trials = 10000000\n",
    "# for _ in tqdm(range(num_trials)):\n",
    "#     path = run_lerw(g, start, target)\n",
    "#     path_freqs[reindexer(path)] += 1 / num_trials"
   ]
  },
  {
   "cell_type": "code",
   "execution_count": 296,
   "id": "3e6bfe32-470c-4838-a245-65a13e376db4",
   "metadata": {},
   "outputs": [
    {
     "data": {
      "image/png": "[encoded data removed]",
      "text/plain": [
       "<Figure size 1600x400 with 1 Axes>"
      ]
     },
     "metadata": {},
     "output_type": "display_data"
    }
   ],
   "source": [
    "fig, ax = plt.subplots(figsize=(16,4))\n",
    "\n",
    "_ = plt.bar(x = path_freqs.keys(),\n",
    "            height = path_freqs.values(),\n",
    "            # log = True,\n",
    "           )"
   ]
  },
  {
   "cell_type": "code",
   "execution_count": 297,
   "id": "9788275d-951c-4701-8d2a-526a3e0f77f3",
   "metadata": {},
   "outputs": [
    {
     "data": {
      "text/plain": [
       "{0: 0.04163800000016739,\n",
       " 1: 0.1563193000034651,\n",
       " 2: 0.15625730000346333,\n",
       " 3: 0.5832559999695256,\n",
       " 4: 0.041707400000169384,\n",
       " 5: 0.010413699999992417,\n",
       " 6: 0.01040829999999245}"
      ]
     },
     "execution_count": 297,
     "metadata": {},
     "output_type": "execute_result"
    }
   ],
   "source": [
    "path_freqs"
   ]
  },
  {
   "cell_type": "code",
   "execution_count": 303,
   "id": "8ccc18d5-51f6-4651-a522-765161e9013a",
   "metadata": {},
   "outputs": [
    {
     "data": {
      "image/png": "[encoded data removed]",
      "text/plain": [
       "<Figure size 300x300 with 1 Axes>"
      ]
     },
     "metadata": {},
     "output_type": "display_data"
    }
   ],
   "source": [
    "graph = nx.Graph()\n",
    "graph.add_nodes_from(g.nodes)\n",
    "graph.add_edges_from(all_paths[5])\n",
    "tu.draw(graph)"
   ]
  },
  {
   "cell_type": "code",
   "execution_count": null,
   "id": "07b9d240-adcf-488e-999c-9b1e66a1ea6b",
   "metadata": {},
   "outputs": [],
   "source": []
  }
 ],
 "metadata": {
  "kernelspec": {
   "display_name": "Python 3 (ipykernel)",
   "language": "python",
   "name": "python3"
  },
  "language_info": {
   "codemirror_mode": {
    "name": "ipython",
    "version": 3
   },
   "file_extension": ".py",
   "mimetype": "text/x-python",
   "name": "python",
   "nbconvert_exporter": "python",
   "pygments_lexer": "ipython3",
   "version": "3.9.6"
  }
 },
 "nbformat": 4,
 "nbformat_minor": 5
}
