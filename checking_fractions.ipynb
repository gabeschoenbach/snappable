{
 "cells": [
  {
   "cell_type": "code",
   "execution_count": 1,
   "id": "22e69427-d5ac-4371-8cc8-28b5423a04fe",
   "metadata": {},
   "outputs": [],
   "source": [
    "from tree_partition import sample_uniform_partition_of_tree\n",
    "import matplotlib.pyplot as plt\n",
    "import tree_utils as tu\n",
    "import networkx as nx\n",
    "from tqdm import tqdm\n",
    "import pandas as pd\n",
    "import numpy as np\n",
    "import math"
   ]
  },
  {
   "cell_type": "code",
   "execution_count": 15,
   "id": "78dc7766-3ae3-48de-b6e3-8ed8f275159a",
   "metadata": {},
   "outputs": [],
   "source": [
    "def make_clique(n):\n",
    "    return nx.complete_graph(n)\n",
    "\n",
    "def make_biclique(m, n):\n",
    "    return nx.complete_bipartite_graph(m, n)\n",
    "\n",
    "def num_trees_clique(n):\n",
    "    return n ** (n-2)\n",
    "\n",
    "def num_snappables_clique(n):\n",
    "    assert n % 2 == 0\n",
    "    combo = math.comb(n, int(n/2))\n",
    "    return combo * (2 / (2 ** n)) * (n ** (n - 2))\n",
    "\n",
    "def fraction_nears_clique(n, eps):\n",
    "    first_combo = math.comb(n, int(0.5 * (1 - eps) * n)) # flooring denominator\n",
    "    second_combo = math.comb(int(0.5 * (1 + eps) * n), int(0.5 * (1 - eps) * n)) # flooring both\n",
    "    term_1 = eps ** (eps * n)\n",
    "    term_2 = (1 - eps) ** ((n * (1 - eps)) - 2)\n",
    "    term_3 = 2 ** (n * (eps - 1))\n",
    "    return 4 * first_combo * second_combo * term_1 * term_2 * term_3\n",
    "\n",
    "def fraction_snappables_clique(n):\n",
    "    return num_snappables_clique(n) / num_trees_clique(n)\n",
    "\n",
    "def num_trees_biclique(m, n):\n",
    "    return (m ** (n - 1)) * (n ** (m - 1))\n",
    "\n",
    "def num_snappables_equal_biclique(n):\n",
    "    num_edges = (n ** 2) - (2 * n) + 2\n",
    "    result = 0\n",
    "    for k in range(1, n): # 1 to n - 1, inclusive\n",
    "        combo = math.comb(n, k) ** 2\n",
    "        num_pairs_trees = ((k ** (n - k - 1)) * ((n - k) ** (k - 1))) ** 2\n",
    "        result += (combo * num_pairs_trees)\n",
    "    return 0.5 * num_edges * result\n",
    "\n",
    "def fraction_snappables_equal_biclique(n):\n",
    "    return num_snappables_equal_biclique(n) / num_trees_biclique(n, n)"
   ]
  },
  {
   "cell_type": "code",
   "execution_count": 31,
   "id": "7301ebb5-8ae0-4ff9-a5ab-67f5078a7de3",
   "metadata": {},
   "outputs": [
    {
     "data": {
      "text/plain": [
       "0.01652320982427978"
      ]
     },
     "execution_count": 31,
     "metadata": {},
     "output_type": "execute_result"
    }
   ],
   "source": [
    "eps = 0.05\n",
    "fraction_nears_clique(400, eps)"
   ]
  },
  {
   "cell_type": "code",
   "execution_count": null,
   "id": "86cf540e-3f17-462d-8fba-02515ae23897",
   "metadata": {},
   "outputs": [],
   "source": []
  },
  {
   "cell_type": "code",
   "execution_count": 76,
   "id": "72a25443-5007-4c47-b0f7-3e31512f4c91",
   "metadata": {},
   "outputs": [],
   "source": [
    "def count_snaps(graph, trials, eps=0, viz=True):\n",
    "    num_snaps = 0\n",
    "    iterable = tqdm(range(trials)) if viz else range(trials)\n",
    "    for _ in iterable:\n",
    "        tree = tu.uniform_random_spanning_tree(graph)\n",
    "        for node in tree.nodes:\n",
    "            tree.nodes[node]['pop'] = 1\n",
    "        min_part_size = (len(tree) * (1 - eps)) / 2\n",
    "        max_part_size = (len(tree) * (1 + eps)) / 2\n",
    "        _, num_balance_edges = sample_uniform_partition_of_tree(tree, 2, min_part_size, max_part_size, \"pop\")\n",
    "        if num_balance_edges:\n",
    "            num_snaps += 1\n",
    "    return num_snaps / trials"
   ]
  },
  {
   "cell_type": "code",
   "execution_count": 96,
   "id": "9897daa3-8489-44ec-b1f3-5d85129fe1f8",
   "metadata": {},
   "outputs": [],
   "source": [
    "N = 4\n",
    "num_trials = 100000\n",
    "graph = make_biclique(N, N)"
   ]
  },
  {
   "cell_type": "code",
   "execution_count": 97,
   "id": "49dac3c2-55e8-45bf-b0eb-60f65e10a589",
   "metadata": {},
   "outputs": [
    {
     "data": {
      "image/png": "[encoded data removed]",
      "text/plain": [
       "<Figure size 400x200 with 1 Axes>"
      ]
     },
     "metadata": {},
     "output_type": "display_data"
    }
   ],
   "source": [
    "fig, ax = plt.subplots(figsize=(4,2))\n",
    "left_set, right_set = nx.bipartite.sets(graph)\n",
    "\n",
    "nx.draw(graph, pos=nx.bipartite_layout(graph, left_set), ax=ax)"
   ]
  },
  {
   "cell_type": "code",
   "execution_count": 98,
   "id": "996050f1-d663-4fa2-940d-134f37040b9b",
   "metadata": {},
   "outputs": [
    {
     "name": "stderr",
     "output_type": "stream",
     "text": [
      "100%|█████████████████████████████████| 100000/100000 [00:19<00:00, 5194.45it/s]\n"
     ]
    }
   ],
   "source": [
    "proportion = count_snaps(graph, num_trials)"
   ]
  },
  {
   "cell_type": "code",
   "execution_count": 99,
   "id": "54e4dc52-2f06-47dd-ace3-345aed3a18e1",
   "metadata": {},
   "outputs": [
    {
     "data": {
      "text/plain": [
       "0.60085"
      ]
     },
     "execution_count": 99,
     "metadata": {},
     "output_type": "execute_result"
    }
   ],
   "source": [
    "proportion"
   ]
  },
  {
   "cell_type": "code",
   "execution_count": 100,
   "id": "36e45c61-00f6-4b97-8b63-54247f6e097a",
   "metadata": {},
   "outputs": [
    {
     "data": {
      "text/plain": [
       "0.7421875"
      ]
     },
     "execution_count": 100,
     "metadata": {},
     "output_type": "execute_result"
    }
   ],
   "source": [
    "fraction_snappables_equal_biclique(N)"
   ]
  },
  {
   "cell_type": "code",
   "execution_count": 101,
   "id": "efe1c927-ba5d-4480-aaf5-aceef38e8e01",
   "metadata": {},
   "outputs": [],
   "source": [
    "# the above fractions should be basically equal!!! see the clique example below which is equal..."
   ]
  },
  {
   "cell_type": "code",
   "execution_count": 56,
   "id": "4bb0a47a-42cc-474f-8867-29ee48061927",
   "metadata": {},
   "outputs": [],
   "source": [
    "N = 200\n",
    "eps = 0.01\n",
    "num_trials = 10000\n",
    "graph = make_clique(N)"
   ]
  },
  {
   "cell_type": "code",
   "execution_count": 57,
   "id": "058f3955-2f68-4e47-8c1c-b6896f8cbef3",
   "metadata": {},
   "outputs": [
    {
     "data": {
      "image/png": "[encoded data removed]",
      "text/plain": [
       "<Figure size 300x300 with 1 Axes>"
      ]
     },
     "metadata": {},
     "output_type": "display_data"
    }
   ],
   "source": [
    "fig, ax = plt.subplots(figsize=(3,3))\n",
    "nx.draw_circular(graph, ax=ax)"
   ]
  },
  {
   "cell_type": "code",
   "execution_count": 58,
   "id": "d290d73a-3394-42b3-8288-402ee7d8f931",
   "metadata": {},
   "outputs": [
    {
     "name": "stderr",
     "output_type": "stream",
     "text": [
      "100%|████████████████████████████████████| 10000/10000 [00:40<00:00, 249.63it/s]\n"
     ]
    }
   ],
   "source": [
    "proportion = count_snaps(graph, num_trials, eps=eps)"
   ]
  },
  {
   "cell_type": "code",
   "execution_count": null,
   "id": "937eb209-8d48-4ac6-8c5f-f0be10029861",
   "metadata": {},
   "outputs": [
    {
     "data": {
      "text/plain": [
       "0.2375"
      ]
     },
     "execution_count": 59,
     "metadata": {},
     "output_type": "execute_result"
    }
   ],
   "source": [
    "proportion"
   ]
  },
  {
   "cell_type": "code",
   "execution_count": null,
   "id": "959d9ebf-9aa7-4612-bfcb-5f0cf9f067c4",
   "metadata": {},
   "outputs": [
    {
     "data": {
      "text/plain": [
       "0.2507413752391585"
      ]
     },
     "execution_count": 40,
     "metadata": {},
     "output_type": "execute_result"
    }
   ],
   "source": [
    "fraction_snappables_clique(N)"
   ]
  },
  {
   "cell_type": "code",
   "execution_count": 165,
   "id": "9c2da2db-48df-4fc6-8949-108ea0dcfa76",
   "metadata": {},
   "outputs": [
    {
     "name": "stdout",
     "output_type": "stream",
     "text": [
      "0.5\n"
     ]
    },
    {
     "name": "stderr",
     "output_type": "stream",
     "text": [
      "100%|███████████████████████████████████| 10000/10000 [00:01<00:00, 7302.31it/s]\n",
      "100%|███████████████████████████████████| 10000/10000 [00:04<00:00, 2435.94it/s]\n",
      "100%|████████████████████████████████████| 10000/10000 [00:29<00:00, 336.85it/s]\n",
      "100%|████████████████████████████████████| 10000/10000 [01:04<00:00, 155.85it/s]\n",
      "100%|█████████████████████████████████████| 10000/10000 [06:57<00:00, 23.96it/s]\n"
     ]
    },
    {
     "name": "stdout",
     "output_type": "stream",
     "text": [
      "0.1\n"
     ]
    },
    {
     "name": "stderr",
     "output_type": "stream",
     "text": [
      "100%|███████████████████████████████████| 10000/10000 [00:01<00:00, 8666.69it/s]\n",
      "100%|███████████████████████████████████| 10000/10000 [00:03<00:00, 3253.85it/s]\n",
      "100%|████████████████████████████████████| 10000/10000 [00:26<00:00, 373.33it/s]\n",
      "100%|████████████████████████████████████| 10000/10000 [01:00<00:00, 165.16it/s]\n",
      "100%|█████████████████████████████████████| 10000/10000 [06:06<00:00, 27.31it/s]\n"
     ]
    },
    {
     "name": "stdout",
     "output_type": "stream",
     "text": [
      "0.001\n"
     ]
    },
    {
     "name": "stderr",
     "output_type": "stream",
     "text": [
      "100%|███████████████████████████████████| 10000/10000 [00:01<00:00, 9206.47it/s]\n",
      "100%|███████████████████████████████████| 10000/10000 [00:03<00:00, 3238.41it/s]\n",
      "100%|████████████████████████████████████| 10000/10000 [00:24<00:00, 405.36it/s]\n",
      "100%|████████████████████████████████████| 10000/10000 [00:57<00:00, 173.11it/s]\n",
      "100%|█████████████████████████████████████| 10000/10000 [06:02<00:00, 27.61it/s]\n"
     ]
    },
    {
     "name": "stdout",
     "output_type": "stream",
     "text": [
      "1e-05\n"
     ]
    },
    {
     "name": "stderr",
     "output_type": "stream",
     "text": [
      "100%|███████████████████████████████████| 10000/10000 [00:01<00:00, 9500.53it/s]\n",
      "100%|███████████████████████████████████| 10000/10000 [00:03<00:00, 3315.25it/s]\n",
      "100%|████████████████████████████████████| 10000/10000 [00:24<00:00, 416.00it/s]\n",
      "100%|████████████████████████████████████| 10000/10000 [00:55<00:00, 178.72it/s]\n",
      "100%|█████████████████████████████████████| 10000/10000 [05:50<00:00, 28.54it/s]"
     ]
    },
    {
     "name": "stdout",
     "output_type": "stream",
     "text": [
      "CPU times: user 30min 20s, sys: 34.6 s, total: 30min 55s\n",
      "Wall time: 31min\n"
     ]
    },
    {
     "name": "stderr",
     "output_type": "stream",
     "text": [
      "\n"
     ]
    }
   ],
   "source": [
    "%%time\n",
    "epsilons = [0.5, 0.1, 0.001, 0.00001]\n",
    "Ns = [4, 16, 128, 256, 1024]\n",
    "num_trials = 10000\n",
    "\n",
    "data = {}\n",
    "for eps in epsilons:\n",
    "    print(eps)\n",
    "    fractions = []\n",
    "    for N in Ns:\n",
    "        graph = make_clique(N)\n",
    "        fraction = count_snaps(graph, num_trials, eps=eps, viz=True)\n",
    "        fractions.append(fraction)\n",
    "    data[eps] = fractions"
   ]
  },
  {
   "cell_type": "code",
   "execution_count": 166,
   "id": "e6b59555-59a0-4a5e-be5e-23d8344eca10",
   "metadata": {},
   "outputs": [],
   "source": [
    "df = pd.DataFrame(data)\n",
    "df.index = Ns"
   ]
  },
  {
   "cell_type": "code",
   "execution_count": 167,
   "id": "ca05df94-f403-479c-ba98-5e2ed34bc6d1",
   "metadata": {},
   "outputs": [
    {
     "data": {
      "text/html": [
       "<div>\n",
       "<style scoped>\n",
       "    .dataframe tbody tr th:only-of-type {\n",
       "        vertical-align: middle;\n",
       "    }\n",
       "\n",
       "    .dataframe tbody tr th {\n",
       "        vertical-align: top;\n",
       "    }\n",
       "\n",
       "    .dataframe thead th {\n",
       "        text-align: right;\n",
       "    }\n",
       "</style>\n",
       "<table border=\"1\" class=\"dataframe\">\n",
       "  <thead>\n",
       "    <tr style=\"text-align: right;\">\n",
       "      <th></th>\n",
       "      <th>0.50000</th>\n",
       "      <th>0.10000</th>\n",
       "      <th>0.00100</th>\n",
       "      <th>0.00001</th>\n",
       "    </tr>\n",
       "  </thead>\n",
       "  <tbody>\n",
       "    <tr>\n",
       "      <th>4</th>\n",
       "      <td>0.7518</td>\n",
       "      <td>0.7547</td>\n",
       "      <td>0.7557</td>\n",
       "      <td>0.7556</td>\n",
       "    </tr>\n",
       "    <tr>\n",
       "      <th>16</th>\n",
       "      <td>0.9998</td>\n",
       "      <td>0.3989</td>\n",
       "      <td>0.3984</td>\n",
       "      <td>0.4030</td>\n",
       "    </tr>\n",
       "    <tr>\n",
       "      <th>128</th>\n",
       "      <td>1.0000</td>\n",
       "      <td>0.6714</td>\n",
       "      <td>0.1431</td>\n",
       "      <td>0.1417</td>\n",
       "    </tr>\n",
       "    <tr>\n",
       "      <th>256</th>\n",
       "      <td>1.0000</td>\n",
       "      <td>0.6709</td>\n",
       "      <td>0.0974</td>\n",
       "      <td>0.1025</td>\n",
       "    </tr>\n",
       "    <tr>\n",
       "      <th>1024</th>\n",
       "      <td>1.0000</td>\n",
       "      <td>0.7132</td>\n",
       "      <td>0.0501</td>\n",
       "      <td>0.0500</td>\n",
       "    </tr>\n",
       "  </tbody>\n",
       "</table>\n",
       "</div>"
      ],
      "text/plain": [
       "      0.50000  0.10000  0.00100  0.00001\n",
       "4      0.7518   0.7547   0.7557   0.7556\n",
       "16     0.9998   0.3989   0.3984   0.4030\n",
       "128    1.0000   0.6714   0.1431   0.1417\n",
       "256    1.0000   0.6709   0.0974   0.1025\n",
       "1024   1.0000   0.7132   0.0501   0.0500"
      ]
     },
     "execution_count": 167,
     "metadata": {},
     "output_type": "execute_result"
    }
   ],
   "source": [
    "df"
   ]
  },
  {
   "cell_type": "code",
   "execution_count": 168,
   "id": "48c82d4f-09f9-48cd-9465-4d3b440154d8",
   "metadata": {},
   "outputs": [
    {
     "data": {
      "image/png": "[encoded data removed]",
      "text/plain": [
       "<Figure size 1200x400 with 1 Axes>"
      ]
     },
     "metadata": {},
     "output_type": "display_data"
    }
   ],
   "source": [
    "# with plt.xkcd():\n",
    "fig, ax = plt.subplots(figsize=(12,4))\n",
    "plt.scatter(df.index, df[0.5], label=\".5\")\n",
    "plt.scatter(df.index, df[0.10000], label=\".1\")\n",
    "plt.scatter(df.index, df[0.00100], label=\".01\")\n",
    "plt.scatter(df.index, df[0.00001], label=\".00001\")\n",
    "plt.xscale(\"log\")\n",
    "plt.yscale(\"log\")\n",
    "_ = plt.legend()"
   ]
  },
  {
   "cell_type": "code",
   "execution_count": 170,
   "id": "e5b5d42e-ccfd-4e9f-b8cd-dca04bdbcd8c",
   "metadata": {},
   "outputs": [
    {
     "data": {
      "text/html": [
       "<div>\n",
       "<style scoped>\n",
       "    .dataframe tbody tr th:only-of-type {\n",
       "        vertical-align: middle;\n",
       "    }\n",
       "\n",
       "    .dataframe tbody tr th {\n",
       "        vertical-align: top;\n",
       "    }\n",
       "\n",
       "    .dataframe thead th {\n",
       "        text-align: right;\n",
       "    }\n",
       "</style>\n",
       "<table border=\"1\" class=\"dataframe\">\n",
       "  <thead>\n",
       "    <tr style=\"text-align: right;\">\n",
       "      <th></th>\n",
       "      <th>4</th>\n",
       "      <th>16</th>\n",
       "      <th>128</th>\n",
       "      <th>256</th>\n",
       "      <th>1024</th>\n",
       "    </tr>\n",
       "  </thead>\n",
       "  <tbody>\n",
       "    <tr>\n",
       "      <th>0.50000</th>\n",
       "      <td>0.7518</td>\n",
       "      <td>0.9998</td>\n",
       "      <td>1.0000</td>\n",
       "      <td>1.0000</td>\n",
       "      <td>1.0000</td>\n",
       "    </tr>\n",
       "    <tr>\n",
       "      <th>0.10000</th>\n",
       "      <td>0.7547</td>\n",
       "      <td>0.3989</td>\n",
       "      <td>0.6714</td>\n",
       "      <td>0.6709</td>\n",
       "      <td>0.7132</td>\n",
       "    </tr>\n",
       "    <tr>\n",
       "      <th>0.00100</th>\n",
       "      <td>0.7557</td>\n",
       "      <td>0.3984</td>\n",
       "      <td>0.1431</td>\n",
       "      <td>0.0974</td>\n",
       "      <td>0.0501</td>\n",
       "    </tr>\n",
       "    <tr>\n",
       "      <th>0.00001</th>\n",
       "      <td>0.7556</td>\n",
       "      <td>0.4030</td>\n",
       "      <td>0.1417</td>\n",
       "      <td>0.1025</td>\n",
       "      <td>0.0500</td>\n",
       "    </tr>\n",
       "  </tbody>\n",
       "</table>\n",
       "</div>"
      ],
      "text/plain": [
       "           4       16      128     256     1024\n",
       "0.50000  0.7518  0.9998  1.0000  1.0000  1.0000\n",
       "0.10000  0.7547  0.3989  0.6714  0.6709  0.7132\n",
       "0.00100  0.7557  0.3984  0.1431  0.0974  0.0501\n",
       "0.00001  0.7556  0.4030  0.1417  0.1025  0.0500"
      ]
     },
     "execution_count": 170,
     "metadata": {},
     "output_type": "execute_result"
    }
   ],
   "source": [
    "tf = df.T\n",
    "tf"
   ]
  },
  {
   "cell_type": "code",
   "execution_count": 171,
   "id": "dc4217e5-7b08-416e-980f-b82f3046efc4",
   "metadata": {},
   "outputs": [
    {
     "data": {
      "image/png": "[encoded data removed]",
      "text/plain": [
       "<Figure size 1200x400 with 1 Axes>"
      ]
     },
     "metadata": {},
     "output_type": "display_data"
    }
   ],
   "source": [
    "fig, ax = plt.subplots(figsize=(12,4))\n",
    "tf = df.T\n",
    "\n",
    "for N in Ns:\n",
    "    plt.scatter(tf.index, tf[N], label=N)\n",
    "\n",
    "plt.xscale(\"log\")\n",
    "_ = plt.legend()"
   ]
  },
  {
   "cell_type": "code",
   "execution_count": null,
   "id": "d8b147ea-5f9a-4eaa-9389-70c9fdaec55a",
   "metadata": {},
   "outputs": [],
   "source": []
  }
 ],
 "metadata": {
  "kernelspec": {
   "display_name": "Python 3 (ipykernel)",
   "language": "python",
   "name": "python3"
  },
  "language_info": {
   "codemirror_mode": {
    "name": "ipython",
    "version": 3
   },
   "file_extension": ".py",
   "mimetype": "text/x-python",
   "name": "python",
   "nbconvert_exporter": "python",
   "pygments_lexer": "ipython3",
   "version": "3.9.6"
  }
 },
 "nbformat": 4,
 "nbformat_minor": 5
}
